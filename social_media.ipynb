{
 "cells": [
  {
   "cell_type": "markdown",
   "metadata": {},
   "source": [
    "# Exploring the Impacts of Social Media on Mental Health using ML algorithms\n",
    "\n",
    "In recent years, the pervasive use of social media platforms has significantly influenced various aspects of our lives, including communication, information dissemination, and social interaction. While social media offers numerous benefits, it also poses risks to mental health, such as increased anxiety, depression, and loneliness. This project seeks to provide a comprehensive analysis of these impacts using advanced data analysis and machine learning techniques."
   ]
  },
  {
   "cell_type": "markdown",
   "metadata": {
    "id": "hSRhgGxtNOcm"
   },
   "source": [
    "## Data Description\n",
    "\n",
    "Variables \n",
    "\n",
    "1. Age\n",
    "2. Gender\n",
    "3. Relationship Status\n",
    "4. Occupation Status\n",
    "5. Affiliated Organizations\n",
    "6. Social Medias Used\n",
    "7. Time spent - social media use, in hours\n",
    "\n"
   ]
  },
  {
   "cell_type": "markdown",
   "metadata": {
    "id": "20e2oVZ6O9ai"
   },
   "source": [
    "Measurements of Frequency or Intensity of mental health symptoms is take through Likert Scale questions - \n",
    "\n",
    "1.   Purposeless use of Social Media [ADHD] - Question 9\n",
    "2.   Distracted by Social Media [ADHD] - Question 10\n",
    "3. Restlessness if Social Media not used [Anxiety] - Question 11\n",
    "4. Ease of Distraction by Social Media [ADHD] - Question 12\n",
    "5. Bothered by worries [Anxiety] - Question 13\n",
    "6. Difficulty in concentrating [ADHD] - Question 14\n",
    "7. Comparison of self to peers [Self Esteem] - Question 15\n",
    "8. Feelings about above comparison [Self Esteem] - Question 16\n",
    "9. Validation sought from Social Media [Self Esteem] - Question 17\n",
    "10. Feelings of Depression [Depression] - Question 18\n",
    "11. Fluctuation of interest [Depression] - Question 19\n",
    "12. Sleep Issues [Depression] - Question 20\n",
    "\n"
   ]
  },
  {
   "cell_type": "code",
   "execution_count": 48,
   "metadata": {
    "id": "b52kyuIIR1di"
   },
   "outputs": [],
   "source": [
    "# Importing necessary packages for the project\n",
    "import pandas as pd\n",
    "import numpy as np"
   ]
  },
  {
   "cell_type": "code",
   "execution_count": 49,
   "metadata": {
    "id": "9ymxSUorSApv"
   },
   "outputs": [],
   "source": [
    "import matplotlib.pyplot as plt\n",
    "import seaborn as sns"
   ]
  },
  {
   "cell_type": "code",
   "execution_count": 50,
   "metadata": {
    "colab": {
     "base_uri": "https://localhost:8080/",
     "height": 345
    },
    "id": "LIVcXkPhSM7p",
    "outputId": "b32b169e-cb35-4605-ab02-cc0a47288762"
   },
   "outputs": [],
   "source": [
    "# loading the dataset used in for the project\n",
    "data=pd.read_csv('E:\\RBL Lab\\soc.csv')"
   ]
  },
  {
   "cell_type": "code",
   "execution_count": 51,
   "metadata": {},
   "outputs": [],
   "source": [
    "# Setting to display all columns\n",
    "pd.set_option(\"display.max_columns\", None)"
   ]
  },
  {
   "cell_type": "code",
   "execution_count": 52,
   "metadata": {
    "id": "3HqCdkm6eWAd",
    "scrolled": true
   },
   "outputs": [
    {
     "data": {
      "text/html": [
       "<div>\n",
       "<style scoped>\n",
       "    .dataframe tbody tr th:only-of-type {\n",
       "        vertical-align: middle;\n",
       "    }\n",
       "\n",
       "    .dataframe tbody tr th {\n",
       "        vertical-align: top;\n",
       "    }\n",
       "\n",
       "    .dataframe thead th {\n",
       "        text-align: right;\n",
       "    }\n",
       "</style>\n",
       "<table border=\"1\" class=\"dataframe\">\n",
       "  <thead>\n",
       "    <tr style=\"text-align: right;\">\n",
       "      <th></th>\n",
       "      <th>Timestamp</th>\n",
       "      <th>1. What is your age?</th>\n",
       "      <th>2. Gender</th>\n",
       "      <th>3. Relationship Status</th>\n",
       "      <th>4. Occupation Status</th>\n",
       "      <th>5. What type of organizations are you affiliated with?</th>\n",
       "      <th>6. Do you use social media?</th>\n",
       "      <th>7. What social media platforms do you commonly use?</th>\n",
       "      <th>8. What is the average time you spend on social media every day?</th>\n",
       "      <th>9. How often do you find yourself using Social media without a specific purpose?</th>\n",
       "      <th>10. How often do you get distracted by Social media when you are busy doing something?</th>\n",
       "      <th>11. Do you feel restless if you haven't used Social media in a while?</th>\n",
       "      <th>12. On a scale of 1 to 5, how easily distracted are you?</th>\n",
       "      <th>13. On a scale of 1 to 5, how much are you bothered by worries?</th>\n",
       "      <th>14. Do you find it difficult to concentrate on things?</th>\n",
       "      <th>15. On a scale of 1-5, how often do you compare yourself to other successful people through the use of social media?</th>\n",
       "      <th>16. Following the previous question, how do you feel about these comparisons, generally speaking?</th>\n",
       "      <th>17. How often do you look to seek validation from features of social media?</th>\n",
       "      <th>18. How often do you feel depressed or down?</th>\n",
       "      <th>19. On a scale of 1 to 5, how frequently does your interest in daily activities fluctuate?</th>\n",
       "      <th>20. On a scale of 1 to 5, how often do you face issues regarding sleep?</th>\n",
       "    </tr>\n",
       "  </thead>\n",
       "  <tbody>\n",
       "    <tr>\n",
       "      <th>0</th>\n",
       "      <td>4/18/2022 19:18:47</td>\n",
       "      <td>21.0</td>\n",
       "      <td>Male</td>\n",
       "      <td>In a relationship</td>\n",
       "      <td>University Student</td>\n",
       "      <td>University</td>\n",
       "      <td>Yes</td>\n",
       "      <td>Facebook, Twitter, Instagram, YouTube, Discord...</td>\n",
       "      <td>Between 2 and 3 hours</td>\n",
       "      <td>5</td>\n",
       "      <td>3</td>\n",
       "      <td>2</td>\n",
       "      <td>5</td>\n",
       "      <td>2</td>\n",
       "      <td>5</td>\n",
       "      <td>2</td>\n",
       "      <td>3</td>\n",
       "      <td>2</td>\n",
       "      <td>5</td>\n",
       "      <td>4</td>\n",
       "      <td>5</td>\n",
       "    </tr>\n",
       "    <tr>\n",
       "      <th>1</th>\n",
       "      <td>4/18/2022 19:19:28</td>\n",
       "      <td>21.0</td>\n",
       "      <td>Female</td>\n",
       "      <td>Single</td>\n",
       "      <td>University Student</td>\n",
       "      <td>University</td>\n",
       "      <td>Yes</td>\n",
       "      <td>Facebook, Twitter, Instagram, YouTube, Discord...</td>\n",
       "      <td>More than 5 hours</td>\n",
       "      <td>4</td>\n",
       "      <td>3</td>\n",
       "      <td>2</td>\n",
       "      <td>4</td>\n",
       "      <td>5</td>\n",
       "      <td>4</td>\n",
       "      <td>5</td>\n",
       "      <td>1</td>\n",
       "      <td>1</td>\n",
       "      <td>5</td>\n",
       "      <td>4</td>\n",
       "      <td>5</td>\n",
       "    </tr>\n",
       "    <tr>\n",
       "      <th>2</th>\n",
       "      <td>4/18/2022 19:25:59</td>\n",
       "      <td>21.0</td>\n",
       "      <td>Female</td>\n",
       "      <td>Single</td>\n",
       "      <td>University Student</td>\n",
       "      <td>University</td>\n",
       "      <td>Yes</td>\n",
       "      <td>Facebook, Instagram, YouTube, Pinterest</td>\n",
       "      <td>Between 3 and 4 hours</td>\n",
       "      <td>3</td>\n",
       "      <td>2</td>\n",
       "      <td>1</td>\n",
       "      <td>2</td>\n",
       "      <td>5</td>\n",
       "      <td>4</td>\n",
       "      <td>3</td>\n",
       "      <td>3</td>\n",
       "      <td>1</td>\n",
       "      <td>4</td>\n",
       "      <td>2</td>\n",
       "      <td>5</td>\n",
       "    </tr>\n",
       "    <tr>\n",
       "      <th>3</th>\n",
       "      <td>4/18/2022 19:29:43</td>\n",
       "      <td>21.0</td>\n",
       "      <td>Female</td>\n",
       "      <td>Single</td>\n",
       "      <td>University Student</td>\n",
       "      <td>University</td>\n",
       "      <td>Yes</td>\n",
       "      <td>Facebook, Instagram</td>\n",
       "      <td>More than 5 hours</td>\n",
       "      <td>4</td>\n",
       "      <td>2</td>\n",
       "      <td>1</td>\n",
       "      <td>3</td>\n",
       "      <td>5</td>\n",
       "      <td>3</td>\n",
       "      <td>5</td>\n",
       "      <td>1</td>\n",
       "      <td>2</td>\n",
       "      <td>4</td>\n",
       "      <td>3</td>\n",
       "      <td>2</td>\n",
       "    </tr>\n",
       "    <tr>\n",
       "      <th>4</th>\n",
       "      <td>4/18/2022 19:33:31</td>\n",
       "      <td>21.0</td>\n",
       "      <td>Female</td>\n",
       "      <td>Single</td>\n",
       "      <td>University Student</td>\n",
       "      <td>University</td>\n",
       "      <td>Yes</td>\n",
       "      <td>Facebook, Instagram, YouTube</td>\n",
       "      <td>Between 2 and 3 hours</td>\n",
       "      <td>3</td>\n",
       "      <td>5</td>\n",
       "      <td>4</td>\n",
       "      <td>4</td>\n",
       "      <td>5</td>\n",
       "      <td>5</td>\n",
       "      <td>3</td>\n",
       "      <td>3</td>\n",
       "      <td>3</td>\n",
       "      <td>4</td>\n",
       "      <td>4</td>\n",
       "      <td>1</td>\n",
       "    </tr>\n",
       "  </tbody>\n",
       "</table>\n",
       "</div>"
      ],
      "text/plain": [
       "            Timestamp  1. What is your age? 2. Gender 3. Relationship Status  \\\n",
       "0  4/18/2022 19:18:47                  21.0      Male      In a relationship   \n",
       "1  4/18/2022 19:19:28                  21.0    Female                 Single   \n",
       "2  4/18/2022 19:25:59                  21.0    Female                 Single   \n",
       "3  4/18/2022 19:29:43                  21.0    Female                 Single   \n",
       "4  4/18/2022 19:33:31                  21.0    Female                 Single   \n",
       "\n",
       "  4. Occupation Status 5. What type of organizations are you affiliated with?  \\\n",
       "0   University Student                                         University       \n",
       "1   University Student                                         University       \n",
       "2   University Student                                         University       \n",
       "3   University Student                                         University       \n",
       "4   University Student                                         University       \n",
       "\n",
       "  6. Do you use social media?  \\\n",
       "0                         Yes   \n",
       "1                         Yes   \n",
       "2                         Yes   \n",
       "3                         Yes   \n",
       "4                         Yes   \n",
       "\n",
       "  7. What social media platforms do you commonly use?  \\\n",
       "0  Facebook, Twitter, Instagram, YouTube, Discord...    \n",
       "1  Facebook, Twitter, Instagram, YouTube, Discord...    \n",
       "2            Facebook, Instagram, YouTube, Pinterest    \n",
       "3                                Facebook, Instagram    \n",
       "4                       Facebook, Instagram, YouTube    \n",
       "\n",
       "  8. What is the average time you spend on social media every day?  \\\n",
       "0                              Between 2 and 3 hours                 \n",
       "1                                  More than 5 hours                 \n",
       "2                              Between 3 and 4 hours                 \n",
       "3                                  More than 5 hours                 \n",
       "4                              Between 2 and 3 hours                 \n",
       "\n",
       "   9. How often do you find yourself using Social media without a specific purpose?  \\\n",
       "0                                                  5                                  \n",
       "1                                                  4                                  \n",
       "2                                                  3                                  \n",
       "3                                                  4                                  \n",
       "4                                                  3                                  \n",
       "\n",
       "   10. How often do you get distracted by Social media when you are busy doing something?  \\\n",
       "0                                                  3                                        \n",
       "1                                                  3                                        \n",
       "2                                                  2                                        \n",
       "3                                                  2                                        \n",
       "4                                                  5                                        \n",
       "\n",
       "   11. Do you feel restless if you haven't used Social media in a while?  \\\n",
       "0                                                  2                       \n",
       "1                                                  2                       \n",
       "2                                                  1                       \n",
       "3                                                  1                       \n",
       "4                                                  4                       \n",
       "\n",
       "   12. On a scale of 1 to 5, how easily distracted are you?  \\\n",
       "0                                                  5          \n",
       "1                                                  4          \n",
       "2                                                  2          \n",
       "3                                                  3          \n",
       "4                                                  4          \n",
       "\n",
       "   13. On a scale of 1 to 5, how much are you bothered by worries?  \\\n",
       "0                                                  2                 \n",
       "1                                                  5                 \n",
       "2                                                  5                 \n",
       "3                                                  5                 \n",
       "4                                                  5                 \n",
       "\n",
       "   14. Do you find it difficult to concentrate on things?  \\\n",
       "0                                                  5        \n",
       "1                                                  4        \n",
       "2                                                  4        \n",
       "3                                                  3        \n",
       "4                                                  5        \n",
       "\n",
       "   15. On a scale of 1-5, how often do you compare yourself to other successful people through the use of social media?  \\\n",
       "0                                                  2                                                                      \n",
       "1                                                  5                                                                      \n",
       "2                                                  3                                                                      \n",
       "3                                                  5                                                                      \n",
       "4                                                  3                                                                      \n",
       "\n",
       "   16. Following the previous question, how do you feel about these comparisons, generally speaking?  \\\n",
       "0                                                  3                                                   \n",
       "1                                                  1                                                   \n",
       "2                                                  3                                                   \n",
       "3                                                  1                                                   \n",
       "4                                                  3                                                   \n",
       "\n",
       "   17. How often do you look to seek validation from features of social media?  \\\n",
       "0                                                  2                             \n",
       "1                                                  1                             \n",
       "2                                                  1                             \n",
       "3                                                  2                             \n",
       "4                                                  3                             \n",
       "\n",
       "   18. How often do you feel depressed or down?  \\\n",
       "0                                             5   \n",
       "1                                             5   \n",
       "2                                             4   \n",
       "3                                             4   \n",
       "4                                             4   \n",
       "\n",
       "   19. On a scale of 1 to 5, how frequently does your interest in daily activities fluctuate?  \\\n",
       "0                                                  4                                            \n",
       "1                                                  4                                            \n",
       "2                                                  2                                            \n",
       "3                                                  3                                            \n",
       "4                                                  4                                            \n",
       "\n",
       "   20. On a scale of 1 to 5, how often do you face issues regarding sleep?  \n",
       "0                                                  5                        \n",
       "1                                                  5                        \n",
       "2                                                  5                        \n",
       "3                                                  2                        \n",
       "4                                                  1                        "
      ]
     },
     "execution_count": 52,
     "metadata": {},
     "output_type": "execute_result"
    }
   ],
   "source": [
    "# Printing first 5 entries in the data set\n",
    "data.head()"
   ]
  },
  {
   "cell_type": "code",
   "execution_count": 53,
   "metadata": {
    "id": "Y5yFDnjGeYtt",
    "scrolled": true
   },
   "outputs": [
    {
     "data": {
      "text/html": [
       "<div>\n",
       "<style scoped>\n",
       "    .dataframe tbody tr th:only-of-type {\n",
       "        vertical-align: middle;\n",
       "    }\n",
       "\n",
       "    .dataframe tbody tr th {\n",
       "        vertical-align: top;\n",
       "    }\n",
       "\n",
       "    .dataframe thead th {\n",
       "        text-align: right;\n",
       "    }\n",
       "</style>\n",
       "<table border=\"1\" class=\"dataframe\">\n",
       "  <thead>\n",
       "    <tr style=\"text-align: right;\">\n",
       "      <th></th>\n",
       "      <th>Timestamp</th>\n",
       "      <th>1. What is your age?</th>\n",
       "      <th>2. Gender</th>\n",
       "      <th>3. Relationship Status</th>\n",
       "      <th>4. Occupation Status</th>\n",
       "      <th>5. What type of organizations are you affiliated with?</th>\n",
       "      <th>6. Do you use social media?</th>\n",
       "      <th>7. What social media platforms do you commonly use?</th>\n",
       "      <th>8. What is the average time you spend on social media every day?</th>\n",
       "      <th>9. How often do you find yourself using Social media without a specific purpose?</th>\n",
       "      <th>10. How often do you get distracted by Social media when you are busy doing something?</th>\n",
       "      <th>11. Do you feel restless if you haven't used Social media in a while?</th>\n",
       "      <th>12. On a scale of 1 to 5, how easily distracted are you?</th>\n",
       "      <th>13. On a scale of 1 to 5, how much are you bothered by worries?</th>\n",
       "      <th>14. Do you find it difficult to concentrate on things?</th>\n",
       "      <th>15. On a scale of 1-5, how often do you compare yourself to other successful people through the use of social media?</th>\n",
       "      <th>16. Following the previous question, how do you feel about these comparisons, generally speaking?</th>\n",
       "      <th>17. How often do you look to seek validation from features of social media?</th>\n",
       "      <th>18. How often do you feel depressed or down?</th>\n",
       "      <th>19. On a scale of 1 to 5, how frequently does your interest in daily activities fluctuate?</th>\n",
       "      <th>20. On a scale of 1 to 5, how often do you face issues regarding sleep?</th>\n",
       "    </tr>\n",
       "  </thead>\n",
       "  <tbody>\n",
       "    <tr>\n",
       "      <th>476</th>\n",
       "      <td>5/21/2022 23:38:28</td>\n",
       "      <td>24.0</td>\n",
       "      <td>Male</td>\n",
       "      <td>Single</td>\n",
       "      <td>Salaried Worker</td>\n",
       "      <td>University, Private</td>\n",
       "      <td>Yes</td>\n",
       "      <td>Facebook, Instagram, YouTube</td>\n",
       "      <td>Between 2 and 3 hours</td>\n",
       "      <td>3</td>\n",
       "      <td>4</td>\n",
       "      <td>3</td>\n",
       "      <td>4</td>\n",
       "      <td>3</td>\n",
       "      <td>4</td>\n",
       "      <td>4</td>\n",
       "      <td>2</td>\n",
       "      <td>4</td>\n",
       "      <td>3</td>\n",
       "      <td>4</td>\n",
       "      <td>4</td>\n",
       "    </tr>\n",
       "    <tr>\n",
       "      <th>477</th>\n",
       "      <td>5/22/2022 0:01:05</td>\n",
       "      <td>26.0</td>\n",
       "      <td>Female</td>\n",
       "      <td>Married</td>\n",
       "      <td>Salaried Worker</td>\n",
       "      <td>University</td>\n",
       "      <td>Yes</td>\n",
       "      <td>Facebook, YouTube</td>\n",
       "      <td>Between 1 and 2 hours</td>\n",
       "      <td>2</td>\n",
       "      <td>1</td>\n",
       "      <td>2</td>\n",
       "      <td>3</td>\n",
       "      <td>4</td>\n",
       "      <td>4</td>\n",
       "      <td>4</td>\n",
       "      <td>2</td>\n",
       "      <td>4</td>\n",
       "      <td>4</td>\n",
       "      <td>4</td>\n",
       "      <td>1</td>\n",
       "    </tr>\n",
       "    <tr>\n",
       "      <th>478</th>\n",
       "      <td>5/22/2022 10:29:21</td>\n",
       "      <td>29.0</td>\n",
       "      <td>Female</td>\n",
       "      <td>Married</td>\n",
       "      <td>Salaried Worker</td>\n",
       "      <td>University</td>\n",
       "      <td>Yes</td>\n",
       "      <td>Facebook, YouTube</td>\n",
       "      <td>Between 2 and 3 hours</td>\n",
       "      <td>3</td>\n",
       "      <td>3</td>\n",
       "      <td>4</td>\n",
       "      <td>3</td>\n",
       "      <td>2</td>\n",
       "      <td>3</td>\n",
       "      <td>3</td>\n",
       "      <td>3</td>\n",
       "      <td>4</td>\n",
       "      <td>2</td>\n",
       "      <td>2</td>\n",
       "      <td>2</td>\n",
       "    </tr>\n",
       "    <tr>\n",
       "      <th>479</th>\n",
       "      <td>7/14/2022 19:33:47</td>\n",
       "      <td>21.0</td>\n",
       "      <td>Male</td>\n",
       "      <td>Single</td>\n",
       "      <td>University Student</td>\n",
       "      <td>University</td>\n",
       "      <td>Yes</td>\n",
       "      <td>Facebook, Twitter, Instagram, YouTube, Discord...</td>\n",
       "      <td>Between 2 and 3 hours</td>\n",
       "      <td>2</td>\n",
       "      <td>3</td>\n",
       "      <td>2</td>\n",
       "      <td>3</td>\n",
       "      <td>3</td>\n",
       "      <td>2</td>\n",
       "      <td>2</td>\n",
       "      <td>3</td>\n",
       "      <td>4</td>\n",
       "      <td>4</td>\n",
       "      <td>5</td>\n",
       "      <td>4</td>\n",
       "    </tr>\n",
       "    <tr>\n",
       "      <th>480</th>\n",
       "      <td>11/12/2022 13:16:50</td>\n",
       "      <td>53.0</td>\n",
       "      <td>Male</td>\n",
       "      <td>Married</td>\n",
       "      <td>Salaried Worker</td>\n",
       "      <td>Private</td>\n",
       "      <td>Yes</td>\n",
       "      <td>Facebook, YouTube</td>\n",
       "      <td>Less than an Hour</td>\n",
       "      <td>2</td>\n",
       "      <td>3</td>\n",
       "      <td>1</td>\n",
       "      <td>3</td>\n",
       "      <td>1</td>\n",
       "      <td>1</td>\n",
       "      <td>3</td>\n",
       "      <td>3</td>\n",
       "      <td>2</td>\n",
       "      <td>2</td>\n",
       "      <td>2</td>\n",
       "      <td>3</td>\n",
       "    </tr>\n",
       "  </tbody>\n",
       "</table>\n",
       "</div>"
      ],
      "text/plain": [
       "               Timestamp  1. What is your age? 2. Gender  \\\n",
       "476   5/21/2022 23:38:28                  24.0      Male   \n",
       "477    5/22/2022 0:01:05                  26.0    Female   \n",
       "478   5/22/2022 10:29:21                  29.0    Female   \n",
       "479   7/14/2022 19:33:47                  21.0      Male   \n",
       "480  11/12/2022 13:16:50                  53.0      Male   \n",
       "\n",
       "    3. Relationship Status 4. Occupation Status  \\\n",
       "476                 Single      Salaried Worker   \n",
       "477                Married      Salaried Worker   \n",
       "478                Married      Salaried Worker   \n",
       "479                 Single   University Student   \n",
       "480                Married      Salaried Worker   \n",
       "\n",
       "    5. What type of organizations are you affiliated with?  \\\n",
       "476                                University, Private       \n",
       "477                                         University       \n",
       "478                                         University       \n",
       "479                                         University       \n",
       "480                                            Private       \n",
       "\n",
       "    6. Do you use social media?  \\\n",
       "476                         Yes   \n",
       "477                         Yes   \n",
       "478                         Yes   \n",
       "479                         Yes   \n",
       "480                         Yes   \n",
       "\n",
       "    7. What social media platforms do you commonly use?  \\\n",
       "476                       Facebook, Instagram, YouTube    \n",
       "477                                  Facebook, YouTube    \n",
       "478                                  Facebook, YouTube    \n",
       "479  Facebook, Twitter, Instagram, YouTube, Discord...    \n",
       "480                                  Facebook, YouTube    \n",
       "\n",
       "    8. What is the average time you spend on social media every day?  \\\n",
       "476                              Between 2 and 3 hours                 \n",
       "477                              Between 1 and 2 hours                 \n",
       "478                              Between 2 and 3 hours                 \n",
       "479                              Between 2 and 3 hours                 \n",
       "480                                  Less than an Hour                 \n",
       "\n",
       "     9. How often do you find yourself using Social media without a specific purpose?  \\\n",
       "476                                                  3                                  \n",
       "477                                                  2                                  \n",
       "478                                                  3                                  \n",
       "479                                                  2                                  \n",
       "480                                                  2                                  \n",
       "\n",
       "     10. How often do you get distracted by Social media when you are busy doing something?  \\\n",
       "476                                                  4                                        \n",
       "477                                                  1                                        \n",
       "478                                                  3                                        \n",
       "479                                                  3                                        \n",
       "480                                                  3                                        \n",
       "\n",
       "     11. Do you feel restless if you haven't used Social media in a while?  \\\n",
       "476                                                  3                       \n",
       "477                                                  2                       \n",
       "478                                                  4                       \n",
       "479                                                  2                       \n",
       "480                                                  1                       \n",
       "\n",
       "     12. On a scale of 1 to 5, how easily distracted are you?  \\\n",
       "476                                                  4          \n",
       "477                                                  3          \n",
       "478                                                  3          \n",
       "479                                                  3          \n",
       "480                                                  3          \n",
       "\n",
       "     13. On a scale of 1 to 5, how much are you bothered by worries?  \\\n",
       "476                                                  3                 \n",
       "477                                                  4                 \n",
       "478                                                  2                 \n",
       "479                                                  3                 \n",
       "480                                                  1                 \n",
       "\n",
       "     14. Do you find it difficult to concentrate on things?  \\\n",
       "476                                                  4        \n",
       "477                                                  4        \n",
       "478                                                  3        \n",
       "479                                                  2        \n",
       "480                                                  1        \n",
       "\n",
       "     15. On a scale of 1-5, how often do you compare yourself to other successful people through the use of social media?  \\\n",
       "476                                                  4                                                                      \n",
       "477                                                  4                                                                      \n",
       "478                                                  3                                                                      \n",
       "479                                                  2                                                                      \n",
       "480                                                  3                                                                      \n",
       "\n",
       "     16. Following the previous question, how do you feel about these comparisons, generally speaking?  \\\n",
       "476                                                  2                                                   \n",
       "477                                                  2                                                   \n",
       "478                                                  3                                                   \n",
       "479                                                  3                                                   \n",
       "480                                                  3                                                   \n",
       "\n",
       "     17. How often do you look to seek validation from features of social media?  \\\n",
       "476                                                  4                             \n",
       "477                                                  4                             \n",
       "478                                                  4                             \n",
       "479                                                  4                             \n",
       "480                                                  2                             \n",
       "\n",
       "     18. How often do you feel depressed or down?  \\\n",
       "476                                             3   \n",
       "477                                             4   \n",
       "478                                             2   \n",
       "479                                             4   \n",
       "480                                             2   \n",
       "\n",
       "     19. On a scale of 1 to 5, how frequently does your interest in daily activities fluctuate?  \\\n",
       "476                                                  4                                            \n",
       "477                                                  4                                            \n",
       "478                                                  2                                            \n",
       "479                                                  5                                            \n",
       "480                                                  2                                            \n",
       "\n",
       "     20. On a scale of 1 to 5, how often do you face issues regarding sleep?  \n",
       "476                                                  4                        \n",
       "477                                                  1                        \n",
       "478                                                  2                        \n",
       "479                                                  4                        \n",
       "480                                                  3                        "
      ]
     },
     "execution_count": 53,
     "metadata": {},
     "output_type": "execute_result"
    }
   ],
   "source": [
    "# Printing last 5 entries in the data set\n",
    "data.tail()"
   ]
  },
  {
   "cell_type": "code",
   "execution_count": 54,
   "metadata": {
    "id": "QhoYGefHeeB-"
   },
   "outputs": [
    {
     "data": {
      "text/plain": [
       "(481, 21)"
      ]
     },
     "execution_count": 54,
     "metadata": {},
     "output_type": "execute_result"
    }
   ],
   "source": [
    "# Dimension of data shape is a s follows -\n",
    "data.shape"
   ]
  },
  {
   "cell_type": "markdown",
   "metadata": {},
   "source": [
    "## Data Pre-processing and Cleaning"
   ]
  },
  {
   "cell_type": "markdown",
   "metadata": {},
   "source": [
    "### Renaming the Columns"
   ]
  },
  {
   "cell_type": "markdown",
   "metadata": {},
   "source": [
    "Renaming is done for simplifying the project in other parts of the Research."
   ]
  },
  {
   "cell_type": "code",
   "execution_count": 55,
   "metadata": {},
   "outputs": [],
   "source": [
    "data.rename(columns = {'1. What is your age?':'Age','2. Gender':'Sex','3. Relationship Status':'Relationship Status',\n",
    "                       '4. Occupation Status':'Occupation',\n",
    "                       '5. What type of organizations are you affiliated with?':'Affiliations',\n",
    "                       '6. Do you use social media?':'Social Media User?',\n",
    "                       '7. What social media platforms do you commonly use?':'Platforms Used',\n",
    "                       '8. What is the average time you spend on social media every day?':'Time Spent',\n",
    "                       '9. How often do you find yourself using Social media without a specific purpose?':'ADHD Q1',\n",
    "                       '10. How often do you get distracted by Social media when you are busy doing something?':'ADHD Q2',\n",
    "                       \"11. Do you feel restless if you haven't used Social media in a while?\":'Anxiety Q1',\n",
    "                       '12. On a scale of 1 to 5, how easily distracted are you?':'ADHD Q3',\n",
    "                       '13. On a scale of 1 to 5, how much are you bothered by worries?':'Anxiety Q2',\n",
    "                       '14. Do you find it difficult to concentrate on things?':'ADHD Q4',\n",
    "                       '15. On a scale of 1-5, how often do you compare yourself to other successful people through the use of social media?':'Self Esteem Q1',\n",
    "                       '16. Following the previous question, how do you feel about these comparisons, generally speaking?':'Self Esteem Q2',\n",
    "                       '17. How often do you look to seek validation from features of social media?':'Self Esteem Q3',\n",
    "                       '18. How often do you feel depressed or down?':'Depression Q1',\n",
    "                       '19. On a scale of 1 to 5, how frequently does your interest in daily activities fluctuate?':'Depression Q2',\n",
    "                       '20. On a scale of 1 to 5, how often do you face issues regarding sleep?':'Depression Q3' },inplace=True)"
   ]
  },
  {
   "cell_type": "markdown",
   "metadata": {},
   "source": [
    "### Re-arranging the Columns"
   ]
  },
  {
   "cell_type": "code",
   "execution_count": 56,
   "metadata": {},
   "outputs": [
    {
     "data": {
      "text/plain": [
       "['Timestamp',\n",
       " 'Age',\n",
       " 'Sex',\n",
       " 'Relationship Status',\n",
       " 'Occupation',\n",
       " 'Affiliations',\n",
       " 'Social Media User?',\n",
       " 'Platforms Used',\n",
       " 'Time Spent',\n",
       " 'ADHD Q1',\n",
       " 'ADHD Q2',\n",
       " 'Anxiety Q1',\n",
       " 'ADHD Q3',\n",
       " 'Anxiety Q2',\n",
       " 'ADHD Q4',\n",
       " 'Self Esteem Q1',\n",
       " 'Self Esteem Q2',\n",
       " 'Self Esteem Q3',\n",
       " 'Depression Q1',\n",
       " 'Depression Q2',\n",
       " 'Depression Q3']"
      ]
     },
     "execution_count": 56,
     "metadata": {},
     "output_type": "execute_result"
    }
   ],
   "source": [
    "titles = list(data.columns)\n",
    "titles"
   ]
  },
  {
   "cell_type": "code",
   "execution_count": 57,
   "metadata": {
    "scrolled": true
   },
   "outputs": [
    {
     "data": {
      "text/plain": [
       "['Timestamp',\n",
       " 'Age',\n",
       " 'Sex',\n",
       " 'Relationship Status',\n",
       " 'Occupation',\n",
       " 'Affiliations',\n",
       " 'Social Media User?',\n",
       " 'Platforms Used',\n",
       " 'Time Spent',\n",
       " 'ADHD Q1',\n",
       " 'ADHD Q2',\n",
       " 'ADHD Q3',\n",
       " 'ADHD Q4',\n",
       " 'Anxiety Q1',\n",
       " 'Anxiety Q2',\n",
       " 'Self Esteem Q1',\n",
       " 'Self Esteem Q2',\n",
       " 'Self Esteem Q3',\n",
       " 'Depression Q1',\n",
       " 'Depression Q2',\n",
       " 'Depression Q3']"
      ]
     },
     "execution_count": 57,
     "metadata": {},
     "output_type": "execute_result"
    }
   ],
   "source": [
    "# rearranging ADHD and anxiety question columns so that they are sequential\n",
    "\n",
    "titles[11], titles[12] = titles[12], titles[11]\n",
    "titles[12], titles[14] = titles[14], titles[12]\n",
    "titles[13], titles[14] = titles[14], titles[13]\n",
    "data = data[titles]\n",
    "titles"
   ]
  },
  {
   "cell_type": "markdown",
   "metadata": {},
   "source": [
    "## Missing Value Detection and Treatment"
   ]
  },
  {
   "cell_type": "markdown",
   "metadata": {},
   "source": [
    "#The following values in a data set are considered to be missing values -\n",
    "\n",
    "1. Blank Values\n",
    "2. NaN\n",
    "3. null\n",
    "\n",
    "Excluding the 'Affiliations' column, if the number of records is less than 474, we can conclude that there are missing\n",
    "values. This is unlikely to happen since the questionnaire consisted of required fields for all questions except for\n",
    "'Affiliations'."
   ]
  },
  {
   "cell_type": "code",
   "execution_count": 58,
   "metadata": {
    "scrolled": true
   },
   "outputs": [
    {
     "name": "stdout",
     "output_type": "stream",
     "text": [
      "<class 'pandas.core.frame.DataFrame'>\n",
      "RangeIndex: 481 entries, 0 to 480\n",
      "Data columns (total 21 columns):\n",
      " #   Column               Non-Null Count  Dtype  \n",
      "---  ------               --------------  -----  \n",
      " 0   Timestamp            481 non-null    object \n",
      " 1   Age                  481 non-null    float64\n",
      " 2   Sex                  481 non-null    object \n",
      " 3   Relationship Status  481 non-null    object \n",
      " 4   Occupation           481 non-null    object \n",
      " 5   Affiliations         451 non-null    object \n",
      " 6   Social Media User?   481 non-null    object \n",
      " 7   Platforms Used       481 non-null    object \n",
      " 8   Time Spent           481 non-null    object \n",
      " 9   ADHD Q1              481 non-null    int64  \n",
      " 10  ADHD Q2              481 non-null    int64  \n",
      " 11  ADHD Q3              481 non-null    int64  \n",
      " 12  ADHD Q4              481 non-null    int64  \n",
      " 13  Anxiety Q1           481 non-null    int64  \n",
      " 14  Anxiety Q2           481 non-null    int64  \n",
      " 15  Self Esteem Q1       481 non-null    int64  \n",
      " 16  Self Esteem Q2       481 non-null    int64  \n",
      " 17  Self Esteem Q3       481 non-null    int64  \n",
      " 18  Depression Q1        481 non-null    int64  \n",
      " 19  Depression Q2        481 non-null    int64  \n",
      " 20  Depression Q3        481 non-null    int64  \n",
      "dtypes: float64(1), int64(12), object(8)\n",
      "memory usage: 79.0+ KB\n"
     ]
    }
   ],
   "source": [
    "# Check number of records in each column of the data set. \n",
    "data.info()"
   ]
  },
  {
   "cell_type": "markdown",
   "metadata": {},
   "source": [
    "There are no missing values as expected. \"Affiliations\" has null values since in the questionnaire, individuals could leave it blank indicating they are not affiliated with anyone."
   ]
  },
  {
   "cell_type": "markdown",
   "metadata": {},
   "source": [
    "# Data Transformation"
   ]
  },
  {
   "cell_type": "markdown",
   "metadata": {},
   "source": [
    "### Gender"
   ]
  },
  {
   "cell_type": "markdown",
   "metadata": {},
   "source": [
    "When asking for the participant's Gender in the questionnaire, options that could be selected were \"Male\", \"Female\" and \"Others\". If \"Others\" was selected, the questionnaire field would prompt participant to input their gender by themselves as a string value. Thus, \"Genders\" column proves to be an aspect of this study that might require some manipulation and transformation to avoid complications in graphs."
   ]
  },
  {
   "cell_type": "code",
   "execution_count": 59,
   "metadata": {},
   "outputs": [
    {
     "name": "stdout",
     "output_type": "stream",
     "text": [
      "{'Female', 'NB', 'There are others???', 'Non-binary', 'Non binary ', 'unsure ', 'Male', 'Nonbinary ', 'Trans'}\n"
     ]
    }
   ],
   "source": [
    "#List all the unique Gender/Sex entries.\n",
    "\n",
    "Genders = set(data['Sex'])\n",
    "print(Genders)"
   ]
  },
  {
   "cell_type": "markdown",
   "metadata": {},
   "source": [
    "Participants with the answer \"There are others???\" are deemed to have not filled out the questionnaire seriously. Thus, we will be excluding all entries pertaining to that answer."
   ]
  },
  {
   "cell_type": "code",
   "execution_count": 60,
   "metadata": {},
   "outputs": [],
   "source": [
    "data.drop(data.loc[data['Sex'] =='There are others???'].index, inplace=True)"
   ]
  },
  {
   "cell_type": "code",
   "execution_count": 61,
   "metadata": {},
   "outputs": [
    {
     "name": "stdout",
     "output_type": "stream",
     "text": [
      "{'Female', 'NB', 'Non-binary', 'Non binary ', 'unsure ', 'Male', 'Nonbinary ', 'Trans'}\n"
     ]
    }
   ],
   "source": [
    "Genders = set(data['Sex'])\n",
    "print(Genders)"
   ]
  },
  {
   "cell_type": "markdown",
   "metadata": {},
   "source": [
    "There are many unique entries in the Gender section that could all be considered under the \"Others\" type. This seemed to have happened because of the user input nature of selecting \"Others\" in the Gender section of the questionnaire."
   ]
  },
  {
   "cell_type": "code",
   "execution_count": 62,
   "metadata": {},
   "outputs": [],
   "source": [
    "#Combining the unique entries that all fall under the \"Others\" category\n",
    "data.replace('Non-binary','Others', inplace=True)\n",
    "data.replace('Nonbinary ','Others', inplace=True)\n",
    "data.replace('NB','Others', inplace=True)\n",
    "data.replace('unsure ','Others', inplace=True)\n",
    "data.replace('Non binary ','Others', inplace=True)\n",
    "data.replace('Trans','Others', inplace=True)"
   ]
  },
  {
   "cell_type": "code",
   "execution_count": 63,
   "metadata": {},
   "outputs": [
    {
     "name": "stdout",
     "output_type": "stream",
     "text": [
      "{'Male', 'Female', 'Others'}\n"
     ]
    }
   ],
   "source": [
    "Genders = set(data['Sex'])\n",
    "print(Genders)"
   ]
  },
  {
   "cell_type": "markdown",
   "metadata": {},
   "source": [
    "We have successfully removed one entry while categorizing many of the unique string names into the 'Others' category."
   ]
  },
  {
   "cell_type": "code",
   "execution_count": 64,
   "metadata": {},
   "outputs": [
    {
     "name": "stdout",
     "output_type": "stream",
     "text": [
      "<class 'pandas.core.frame.DataFrame'>\n",
      "Index: 480 entries, 0 to 480\n",
      "Data columns (total 21 columns):\n",
      " #   Column               Non-Null Count  Dtype  \n",
      "---  ------               --------------  -----  \n",
      " 0   Timestamp            480 non-null    object \n",
      " 1   Age                  480 non-null    float64\n",
      " 2   Sex                  480 non-null    object \n",
      " 3   Relationship Status  480 non-null    object \n",
      " 4   Occupation           480 non-null    object \n",
      " 5   Affiliations         450 non-null    object \n",
      " 6   Social Media User?   480 non-null    object \n",
      " 7   Platforms Used       480 non-null    object \n",
      " 8   Time Spent           480 non-null    object \n",
      " 9   ADHD Q1              480 non-null    int64  \n",
      " 10  ADHD Q2              480 non-null    int64  \n",
      " 11  ADHD Q3              480 non-null    int64  \n",
      " 12  ADHD Q4              480 non-null    int64  \n",
      " 13  Anxiety Q1           480 non-null    int64  \n",
      " 14  Anxiety Q2           480 non-null    int64  \n",
      " 15  Self Esteem Q1       480 non-null    int64  \n",
      " 16  Self Esteem Q2       480 non-null    int64  \n",
      " 17  Self Esteem Q3       480 non-null    int64  \n",
      " 18  Depression Q1        480 non-null    int64  \n",
      " 19  Depression Q2        480 non-null    int64  \n",
      " 20  Depression Q3        480 non-null    int64  \n",
      "dtypes: float64(1), int64(12), object(8)\n",
      "memory usage: 82.5+ KB\n"
     ]
    }
   ],
   "source": [
    "data.info()"
   ]
  },
  {
   "cell_type": "markdown",
   "metadata": {},
   "source": [
    "### Age"
   ]
  },
  {
   "cell_type": "markdown",
   "metadata": {},
   "source": [
    "Note that 'Age' is erroneously detected as float64 value in the above section. This is because of the single data record # 382. We should thus convert the 'Age' column to int64 type."
   ]
  },
  {
   "cell_type": "code",
   "execution_count": 65,
   "metadata": {},
   "outputs": [
    {
     "data": {
      "text/plain": [
       "26.7"
      ]
     },
     "execution_count": 65,
     "metadata": {},
     "output_type": "execute_result"
    }
   ],
   "source": [
    "#Showing the age entry of record #382\n",
    "data.loc[382,'Age']"
   ]
  },
  {
   "cell_type": "code",
   "execution_count": 66,
   "metadata": {},
   "outputs": [],
   "source": [
    "#Converting Age from float64 to int64 and displaying record # 382\n",
    "data['Age'] = data['Age'].astype('int64')"
   ]
  },
  {
   "cell_type": "code",
   "execution_count": 67,
   "metadata": {
    "scrolled": true
   },
   "outputs": [
    {
     "name": "stdout",
     "output_type": "stream",
     "text": [
      "<class 'pandas.core.frame.DataFrame'>\n",
      "Index: 480 entries, 0 to 480\n",
      "Data columns (total 21 columns):\n",
      " #   Column               Non-Null Count  Dtype \n",
      "---  ------               --------------  ----- \n",
      " 0   Timestamp            480 non-null    object\n",
      " 1   Age                  480 non-null    int64 \n",
      " 2   Sex                  480 non-null    object\n",
      " 3   Relationship Status  480 non-null    object\n",
      " 4   Occupation           480 non-null    object\n",
      " 5   Affiliations         450 non-null    object\n",
      " 6   Social Media User?   480 non-null    object\n",
      " 7   Platforms Used       480 non-null    object\n",
      " 8   Time Spent           480 non-null    object\n",
      " 9   ADHD Q1              480 non-null    int64 \n",
      " 10  ADHD Q2              480 non-null    int64 \n",
      " 11  ADHD Q3              480 non-null    int64 \n",
      " 12  ADHD Q4              480 non-null    int64 \n",
      " 13  Anxiety Q1           480 non-null    int64 \n",
      " 14  Anxiety Q2           480 non-null    int64 \n",
      " 15  Self Esteem Q1       480 non-null    int64 \n",
      " 16  Self Esteem Q2       480 non-null    int64 \n",
      " 17  Self Esteem Q3       480 non-null    int64 \n",
      " 18  Depression Q1        480 non-null    int64 \n",
      " 19  Depression Q2        480 non-null    int64 \n",
      " 20  Depression Q3        480 non-null    int64 \n",
      "dtypes: int64(13), object(8)\n",
      "memory usage: 98.7+ KB\n"
     ]
    }
   ],
   "source": [
    "#float64 changed to int32\n",
    "data.info()"
   ]
  },
  {
   "cell_type": "code",
   "execution_count": 68,
   "metadata": {},
   "outputs": [
    {
     "data": {
      "text/plain": [
       "26"
      ]
     },
     "execution_count": 68,
     "metadata": {},
     "output_type": "execute_result"
    }
   ],
   "source": [
    "data.loc[382,'Age']"
   ]
  },
  {
   "cell_type": "markdown",
   "metadata": {},
   "source": [
    "26.7 float value is converted to int value of 26."
   ]
  },
  {
   "cell_type": "code",
   "execution_count": 69,
   "metadata": {
    "scrolled": true
   },
   "outputs": [
    {
     "data": {
      "text/html": [
       "<div>\n",
       "<style scoped>\n",
       "    .dataframe tbody tr th:only-of-type {\n",
       "        vertical-align: middle;\n",
       "    }\n",
       "\n",
       "    .dataframe tbody tr th {\n",
       "        vertical-align: top;\n",
       "    }\n",
       "\n",
       "    .dataframe thead th {\n",
       "        text-align: right;\n",
       "    }\n",
       "</style>\n",
       "<table border=\"1\" class=\"dataframe\">\n",
       "  <thead>\n",
       "    <tr style=\"text-align: right;\">\n",
       "      <th></th>\n",
       "      <th>Age</th>\n",
       "      <th>ADHD Q1</th>\n",
       "      <th>ADHD Q2</th>\n",
       "      <th>ADHD Q3</th>\n",
       "      <th>ADHD Q4</th>\n",
       "      <th>Anxiety Q1</th>\n",
       "      <th>Anxiety Q2</th>\n",
       "      <th>Self Esteem Q1</th>\n",
       "      <th>Self Esteem Q2</th>\n",
       "      <th>Self Esteem Q3</th>\n",
       "      <th>Depression Q1</th>\n",
       "      <th>Depression Q2</th>\n",
       "      <th>Depression Q3</th>\n",
       "    </tr>\n",
       "  </thead>\n",
       "  <tbody>\n",
       "    <tr>\n",
       "      <th>count</th>\n",
       "      <td>480.000000</td>\n",
       "      <td>480.000000</td>\n",
       "      <td>480.000000</td>\n",
       "      <td>480.000000</td>\n",
       "      <td>480.000000</td>\n",
       "      <td>480.000000</td>\n",
       "      <td>480.000000</td>\n",
       "      <td>480.000000</td>\n",
       "      <td>480.000000</td>\n",
       "      <td>480.000000</td>\n",
       "      <td>480.000000</td>\n",
       "      <td>480.000000</td>\n",
       "      <td>480.000000</td>\n",
       "    </tr>\n",
       "    <tr>\n",
       "      <th>mean</th>\n",
       "      <td>26.143750</td>\n",
       "      <td>3.552083</td>\n",
       "      <td>3.316667</td>\n",
       "      <td>3.345833</td>\n",
       "      <td>3.245833</td>\n",
       "      <td>2.583333</td>\n",
       "      <td>3.564583</td>\n",
       "      <td>2.831250</td>\n",
       "      <td>2.772917</td>\n",
       "      <td>2.456250</td>\n",
       "      <td>3.260417</td>\n",
       "      <td>3.172917</td>\n",
       "      <td>3.206250</td>\n",
       "    </tr>\n",
       "    <tr>\n",
       "      <th>std</th>\n",
       "      <td>9.923621</td>\n",
       "      <td>1.097252</td>\n",
       "      <td>1.327300</td>\n",
       "      <td>1.174353</td>\n",
       "      <td>1.348464</td>\n",
       "      <td>1.253527</td>\n",
       "      <td>1.279351</td>\n",
       "      <td>1.409283</td>\n",
       "      <td>1.056097</td>\n",
       "      <td>1.248867</td>\n",
       "      <td>1.310347</td>\n",
       "      <td>1.256838</td>\n",
       "      <td>1.459675</td>\n",
       "    </tr>\n",
       "    <tr>\n",
       "      <th>min</th>\n",
       "      <td>13.000000</td>\n",
       "      <td>1.000000</td>\n",
       "      <td>1.000000</td>\n",
       "      <td>1.000000</td>\n",
       "      <td>1.000000</td>\n",
       "      <td>1.000000</td>\n",
       "      <td>1.000000</td>\n",
       "      <td>1.000000</td>\n",
       "      <td>1.000000</td>\n",
       "      <td>1.000000</td>\n",
       "      <td>1.000000</td>\n",
       "      <td>1.000000</td>\n",
       "      <td>1.000000</td>\n",
       "    </tr>\n",
       "    <tr>\n",
       "      <th>25%</th>\n",
       "      <td>21.000000</td>\n",
       "      <td>3.000000</td>\n",
       "      <td>2.000000</td>\n",
       "      <td>3.000000</td>\n",
       "      <td>2.000000</td>\n",
       "      <td>2.000000</td>\n",
       "      <td>3.000000</td>\n",
       "      <td>2.000000</td>\n",
       "      <td>2.000000</td>\n",
       "      <td>1.000000</td>\n",
       "      <td>2.000000</td>\n",
       "      <td>2.000000</td>\n",
       "      <td>2.000000</td>\n",
       "    </tr>\n",
       "    <tr>\n",
       "      <th>50%</th>\n",
       "      <td>22.000000</td>\n",
       "      <td>4.000000</td>\n",
       "      <td>3.000000</td>\n",
       "      <td>3.000000</td>\n",
       "      <td>3.000000</td>\n",
       "      <td>2.000000</td>\n",
       "      <td>4.000000</td>\n",
       "      <td>3.000000</td>\n",
       "      <td>3.000000</td>\n",
       "      <td>2.000000</td>\n",
       "      <td>3.000000</td>\n",
       "      <td>3.000000</td>\n",
       "      <td>3.000000</td>\n",
       "    </tr>\n",
       "    <tr>\n",
       "      <th>75%</th>\n",
       "      <td>26.000000</td>\n",
       "      <td>4.000000</td>\n",
       "      <td>4.000000</td>\n",
       "      <td>4.000000</td>\n",
       "      <td>4.000000</td>\n",
       "      <td>3.000000</td>\n",
       "      <td>5.000000</td>\n",
       "      <td>4.000000</td>\n",
       "      <td>3.000000</td>\n",
       "      <td>3.000000</td>\n",
       "      <td>4.000000</td>\n",
       "      <td>4.000000</td>\n",
       "      <td>5.000000</td>\n",
       "    </tr>\n",
       "    <tr>\n",
       "      <th>max</th>\n",
       "      <td>91.000000</td>\n",
       "      <td>5.000000</td>\n",
       "      <td>5.000000</td>\n",
       "      <td>5.000000</td>\n",
       "      <td>5.000000</td>\n",
       "      <td>5.000000</td>\n",
       "      <td>5.000000</td>\n",
       "      <td>5.000000</td>\n",
       "      <td>5.000000</td>\n",
       "      <td>5.000000</td>\n",
       "      <td>5.000000</td>\n",
       "      <td>5.000000</td>\n",
       "      <td>5.000000</td>\n",
       "    </tr>\n",
       "  </tbody>\n",
       "</table>\n",
       "</div>"
      ],
      "text/plain": [
       "              Age     ADHD Q1     ADHD Q2     ADHD Q3     ADHD Q4  Anxiety Q1  \\\n",
       "count  480.000000  480.000000  480.000000  480.000000  480.000000  480.000000   \n",
       "mean    26.143750    3.552083    3.316667    3.345833    3.245833    2.583333   \n",
       "std      9.923621    1.097252    1.327300    1.174353    1.348464    1.253527   \n",
       "min     13.000000    1.000000    1.000000    1.000000    1.000000    1.000000   \n",
       "25%     21.000000    3.000000    2.000000    3.000000    2.000000    2.000000   \n",
       "50%     22.000000    4.000000    3.000000    3.000000    3.000000    2.000000   \n",
       "75%     26.000000    4.000000    4.000000    4.000000    4.000000    3.000000   \n",
       "max     91.000000    5.000000    5.000000    5.000000    5.000000    5.000000   \n",
       "\n",
       "       Anxiety Q2  Self Esteem Q1  Self Esteem Q2  Self Esteem Q3  \\\n",
       "count  480.000000      480.000000      480.000000      480.000000   \n",
       "mean     3.564583        2.831250        2.772917        2.456250   \n",
       "std      1.279351        1.409283        1.056097        1.248867   \n",
       "min      1.000000        1.000000        1.000000        1.000000   \n",
       "25%      3.000000        2.000000        2.000000        1.000000   \n",
       "50%      4.000000        3.000000        3.000000        2.000000   \n",
       "75%      5.000000        4.000000        3.000000        3.000000   \n",
       "max      5.000000        5.000000        5.000000        5.000000   \n",
       "\n",
       "       Depression Q1  Depression Q2  Depression Q3  \n",
       "count     480.000000     480.000000     480.000000  \n",
       "mean        3.260417       3.172917       3.206250  \n",
       "std         1.310347       1.256838       1.459675  \n",
       "min         1.000000       1.000000       1.000000  \n",
       "25%         2.000000       2.000000       2.000000  \n",
       "50%         3.000000       3.000000       3.000000  \n",
       "75%         4.000000       4.000000       5.000000  \n",
       "max         5.000000       5.000000       5.000000  "
      ]
     },
     "execution_count": 69,
     "metadata": {},
     "output_type": "execute_result"
    }
   ],
   "source": [
    "data.describe()"
   ]
  },
  {
   "cell_type": "code",
   "execution_count": 70,
   "metadata": {},
   "outputs": [
    {
     "data": {
      "text/plain": [
       "Age               22.0\n",
       "ADHD Q1            4.0\n",
       "ADHD Q2            3.0\n",
       "ADHD Q3            3.0\n",
       "ADHD Q4            3.0\n",
       "Anxiety Q1         2.0\n",
       "Anxiety Q2         4.0\n",
       "Self Esteem Q1     3.0\n",
       "Self Esteem Q2     3.0\n",
       "Self Esteem Q3     2.0\n",
       "Depression Q1      3.0\n",
       "Depression Q2      3.0\n",
       "Depression Q3      3.0\n",
       "dtype: float64"
      ]
     },
     "execution_count": 70,
     "metadata": {},
     "output_type": "execute_result"
    }
   ],
   "source": [
    "data.median(numeric_only=True)"
   ]
  },
  {
   "cell_type": "markdown",
   "metadata": {},
   "source": [
    "### Scalar Adjustment"
   ]
  },
  {
   "cell_type": "markdown",
   "metadata": {},
   "source": [
    "Before manipulating columns (example: summing), we must address the issue of Self Esteem question #2. Originally, the question was -\n",
    "\n",
    "\"Following the previous question, how do you feel about these comparisons, generally speaking?\".\n",
    "\n",
    "The problem lies in what the scores represent, which for this question is a bit different from all the other questions.\n",
    "\n",
    "Very Negative - 1\n",
    "\n",
    "Slightly Negative - 2\n",
    "\n",
    "Neutral - 3\n",
    "\n",
    "Slightly Positive - 4\n",
    "\n",
    "Very Positive - 5 \n",
    "\n",
    "\n",
    "In this research, a greater accumulation of points for one aspect of mental well being means that the person is doing bad in that regard. Therefore, for that condition to remain true, the scoring system of this question must be altered. The following is taken to be the new system -\n",
    "\n",
    "Very negative - 4\n",
    "\n",
    "Slightly negative - 2\n",
    "\n",
    "Neutral - 0\n",
    "\n",
    "Slightly Positive - 0\n",
    "\n",
    "Very Positive - 0\n",
    "\n",
    "Note that \"Slightly Positive\" and \"Very positive\" are assigned 0 values since they are not relevant to this study. We are measuring how mental health is negatively affected, not positively. Therefore, we are only dealing with the \"Neutral\", \"Slightly negative\" and \"Very negative\" options."
   ]
  },
  {
   "cell_type": "code",
   "execution_count": 71,
   "metadata": {},
   "outputs": [],
   "source": [
    "#setting scores of 3,4 and 5 to 0.\n",
    "data.loc[data['Self Esteem Q2'] == 3, 'Self Esteem Q2'] = 0\n",
    "data.loc[data['Self Esteem Q2'] == 4, 'Self Esteem Q2'] = 0\n",
    "data.loc[data['Self Esteem Q2'] == 5, 'Self Esteem Q2'] = 0\n",
    "#Setting scores of '1' to '4' and '2' to '2'.\n",
    "data.loc[data['Self Esteem Q2'] == 1, 'Self Esteem Q2'] = 4\n",
    "data.loc[data['Self Esteem Q2'] == 2, 'Self Esteem Q2'] = 2"
   ]
  },
  {
   "cell_type": "code",
   "execution_count": 72,
   "metadata": {},
   "outputs": [
    {
     "data": {
      "text/html": [
       "<div>\n",
       "<style scoped>\n",
       "    .dataframe tbody tr th:only-of-type {\n",
       "        vertical-align: middle;\n",
       "    }\n",
       "\n",
       "    .dataframe tbody tr th {\n",
       "        vertical-align: top;\n",
       "    }\n",
       "\n",
       "    .dataframe thead th {\n",
       "        text-align: right;\n",
       "    }\n",
       "</style>\n",
       "<table border=\"1\" class=\"dataframe\">\n",
       "  <thead>\n",
       "    <tr style=\"text-align: right;\">\n",
       "      <th></th>\n",
       "      <th>Timestamp</th>\n",
       "      <th>Age</th>\n",
       "      <th>Sex</th>\n",
       "      <th>Relationship Status</th>\n",
       "      <th>Occupation</th>\n",
       "      <th>Affiliations</th>\n",
       "      <th>Social Media User?</th>\n",
       "      <th>Platforms Used</th>\n",
       "      <th>Time Spent</th>\n",
       "      <th>ADHD Q1</th>\n",
       "      <th>ADHD Q2</th>\n",
       "      <th>ADHD Q3</th>\n",
       "      <th>ADHD Q4</th>\n",
       "      <th>Anxiety Q1</th>\n",
       "      <th>Anxiety Q2</th>\n",
       "      <th>Self Esteem Q1</th>\n",
       "      <th>Self Esteem Q2</th>\n",
       "      <th>Self Esteem Q3</th>\n",
       "      <th>Depression Q1</th>\n",
       "      <th>Depression Q2</th>\n",
       "      <th>Depression Q3</th>\n",
       "    </tr>\n",
       "  </thead>\n",
       "  <tbody>\n",
       "    <tr>\n",
       "      <th>0</th>\n",
       "      <td>4/18/2022 19:18:47</td>\n",
       "      <td>21</td>\n",
       "      <td>Male</td>\n",
       "      <td>In a relationship</td>\n",
       "      <td>University Student</td>\n",
       "      <td>University</td>\n",
       "      <td>Yes</td>\n",
       "      <td>Facebook, Twitter, Instagram, YouTube, Discord...</td>\n",
       "      <td>Between 2 and 3 hours</td>\n",
       "      <td>5</td>\n",
       "      <td>3</td>\n",
       "      <td>5</td>\n",
       "      <td>5</td>\n",
       "      <td>2</td>\n",
       "      <td>2</td>\n",
       "      <td>2</td>\n",
       "      <td>0</td>\n",
       "      <td>2</td>\n",
       "      <td>5</td>\n",
       "      <td>4</td>\n",
       "      <td>5</td>\n",
       "    </tr>\n",
       "    <tr>\n",
       "      <th>1</th>\n",
       "      <td>4/18/2022 19:19:28</td>\n",
       "      <td>21</td>\n",
       "      <td>Female</td>\n",
       "      <td>Single</td>\n",
       "      <td>University Student</td>\n",
       "      <td>University</td>\n",
       "      <td>Yes</td>\n",
       "      <td>Facebook, Twitter, Instagram, YouTube, Discord...</td>\n",
       "      <td>More than 5 hours</td>\n",
       "      <td>4</td>\n",
       "      <td>3</td>\n",
       "      <td>4</td>\n",
       "      <td>4</td>\n",
       "      <td>2</td>\n",
       "      <td>5</td>\n",
       "      <td>5</td>\n",
       "      <td>4</td>\n",
       "      <td>1</td>\n",
       "      <td>5</td>\n",
       "      <td>4</td>\n",
       "      <td>5</td>\n",
       "    </tr>\n",
       "    <tr>\n",
       "      <th>2</th>\n",
       "      <td>4/18/2022 19:25:59</td>\n",
       "      <td>21</td>\n",
       "      <td>Female</td>\n",
       "      <td>Single</td>\n",
       "      <td>University Student</td>\n",
       "      <td>University</td>\n",
       "      <td>Yes</td>\n",
       "      <td>Facebook, Instagram, YouTube, Pinterest</td>\n",
       "      <td>Between 3 and 4 hours</td>\n",
       "      <td>3</td>\n",
       "      <td>2</td>\n",
       "      <td>2</td>\n",
       "      <td>4</td>\n",
       "      <td>1</td>\n",
       "      <td>5</td>\n",
       "      <td>3</td>\n",
       "      <td>0</td>\n",
       "      <td>1</td>\n",
       "      <td>4</td>\n",
       "      <td>2</td>\n",
       "      <td>5</td>\n",
       "    </tr>\n",
       "    <tr>\n",
       "      <th>3</th>\n",
       "      <td>4/18/2022 19:29:43</td>\n",
       "      <td>21</td>\n",
       "      <td>Female</td>\n",
       "      <td>Single</td>\n",
       "      <td>University Student</td>\n",
       "      <td>University</td>\n",
       "      <td>Yes</td>\n",
       "      <td>Facebook, Instagram</td>\n",
       "      <td>More than 5 hours</td>\n",
       "      <td>4</td>\n",
       "      <td>2</td>\n",
       "      <td>3</td>\n",
       "      <td>3</td>\n",
       "      <td>1</td>\n",
       "      <td>5</td>\n",
       "      <td>5</td>\n",
       "      <td>4</td>\n",
       "      <td>2</td>\n",
       "      <td>4</td>\n",
       "      <td>3</td>\n",
       "      <td>2</td>\n",
       "    </tr>\n",
       "    <tr>\n",
       "      <th>4</th>\n",
       "      <td>4/18/2022 19:33:31</td>\n",
       "      <td>21</td>\n",
       "      <td>Female</td>\n",
       "      <td>Single</td>\n",
       "      <td>University Student</td>\n",
       "      <td>University</td>\n",
       "      <td>Yes</td>\n",
       "      <td>Facebook, Instagram, YouTube</td>\n",
       "      <td>Between 2 and 3 hours</td>\n",
       "      <td>3</td>\n",
       "      <td>5</td>\n",
       "      <td>4</td>\n",
       "      <td>5</td>\n",
       "      <td>4</td>\n",
       "      <td>5</td>\n",
       "      <td>3</td>\n",
       "      <td>0</td>\n",
       "      <td>3</td>\n",
       "      <td>4</td>\n",
       "      <td>4</td>\n",
       "      <td>1</td>\n",
       "    </tr>\n",
       "  </tbody>\n",
       "</table>\n",
       "</div>"
      ],
      "text/plain": [
       "            Timestamp  Age     Sex Relationship Status          Occupation  \\\n",
       "0  4/18/2022 19:18:47   21    Male   In a relationship  University Student   \n",
       "1  4/18/2022 19:19:28   21  Female              Single  University Student   \n",
       "2  4/18/2022 19:25:59   21  Female              Single  University Student   \n",
       "3  4/18/2022 19:29:43   21  Female              Single  University Student   \n",
       "4  4/18/2022 19:33:31   21  Female              Single  University Student   \n",
       "\n",
       "  Affiliations Social Media User?  \\\n",
       "0   University                Yes   \n",
       "1   University                Yes   \n",
       "2   University                Yes   \n",
       "3   University                Yes   \n",
       "4   University                Yes   \n",
       "\n",
       "                                      Platforms Used             Time Spent  \\\n",
       "0  Facebook, Twitter, Instagram, YouTube, Discord...  Between 2 and 3 hours   \n",
       "1  Facebook, Twitter, Instagram, YouTube, Discord...      More than 5 hours   \n",
       "2            Facebook, Instagram, YouTube, Pinterest  Between 3 and 4 hours   \n",
       "3                                Facebook, Instagram      More than 5 hours   \n",
       "4                       Facebook, Instagram, YouTube  Between 2 and 3 hours   \n",
       "\n",
       "   ADHD Q1  ADHD Q2  ADHD Q3  ADHD Q4  Anxiety Q1  Anxiety Q2  Self Esteem Q1  \\\n",
       "0        5        3        5        5           2           2               2   \n",
       "1        4        3        4        4           2           5               5   \n",
       "2        3        2        2        4           1           5               3   \n",
       "3        4        2        3        3           1           5               5   \n",
       "4        3        5        4        5           4           5               3   \n",
       "\n",
       "   Self Esteem Q2  Self Esteem Q3  Depression Q1  Depression Q2  Depression Q3  \n",
       "0               0               2              5              4              5  \n",
       "1               4               1              5              4              5  \n",
       "2               0               1              4              2              5  \n",
       "3               4               2              4              3              2  \n",
       "4               0               3              4              4              1  "
      ]
     },
     "execution_count": 72,
     "metadata": {},
     "output_type": "execute_result"
    }
   ],
   "source": [
    "# Dataset after the adjustments have been made\n",
    "data.head(5)"
   ]
  },
  {
   "cell_type": "markdown",
   "metadata": {},
   "source": [
    "From the above, modified dataset, we can infer that Self Esteem question # 2 has been properly scaled and adjusted."
   ]
  },
  {
   "cell_type": "markdown",
   "metadata": {},
   "source": [
    "### Summation of Scores of different aspects of mental well being"
   ]
  },
  {
   "cell_type": "markdown",
   "metadata": {},
   "source": [
    "One of the requirements for this research to be valid is to calculate the total number of points accrued by the different questions on various aspects of mental health and wellbeing.\n",
    "\n",
    "Questions measure 4 aspects of mental wellbeing -\n",
    "\n",
    "1. Attention Deficit Hyperactivity Disorder (ADHD)\n",
    "2. Anxiety\n",
    "3. Self Esteem\n",
    "4. Depression\n",
    "\n",
    "Therefore, new columns are created for each of the 4 aspects, and another column named \"Total Score\" is to be created. Since it is assigned the sum total of all the questions as a numerical value, it can have a maximum value of 59."
   ]
  },
  {
   "cell_type": "code",
   "execution_count": 73,
   "metadata": {},
   "outputs": [],
   "source": [
    "#Summing scores from ADHD, Anxiety, Self Esteem and Depression individually and creating a new column\n",
    "\n",
    "ADHD = ['ADHD Q1', 'ADHD Q2', 'ADHD Q3', 'ADHD Q4']\n",
    "data['ADHD Score'] = data[ADHD].sum(axis=1)\n",
    "\n",
    "Anxiety = ['Anxiety Q1', 'Anxiety Q2']\n",
    "data['Anxiety Score'] = data[Anxiety].sum(axis=1)\n",
    "\n",
    "SelfEsteem = ['Self Esteem Q1', 'Self Esteem Q2','Self Esteem Q3']\n",
    "data['Self Esteem Score'] = data[SelfEsteem].sum(axis=1)\n",
    "\n",
    "Depression = ['Depression Q1', 'Depression Q2','Depression Q3']\n",
    "data['Depression Score'] = data[Depression].sum(axis=1)\n",
    "\n",
    "Total = ['ADHD Score', 'Anxiety Score','Self Esteem Score','Depression Score']\n",
    "data['Total Score'] = data[Total].sum(axis=1)\n",
    "\n",
    "#Deleting question columns and timestamp columns as they are no longer used\n",
    "data.drop(data.iloc[:, 9:21], inplace = True, axis = 1)\n",
    "data.drop(['Timestamp'], inplace = True, axis = 1)"
   ]
  },
  {
   "cell_type": "code",
   "execution_count": 74,
   "metadata": {},
   "outputs": [
    {
     "data": {
      "text/html": [
       "<div>\n",
       "<style scoped>\n",
       "    .dataframe tbody tr th:only-of-type {\n",
       "        vertical-align: middle;\n",
       "    }\n",
       "\n",
       "    .dataframe tbody tr th {\n",
       "        vertical-align: top;\n",
       "    }\n",
       "\n",
       "    .dataframe thead th {\n",
       "        text-align: right;\n",
       "    }\n",
       "</style>\n",
       "<table border=\"1\" class=\"dataframe\">\n",
       "  <thead>\n",
       "    <tr style=\"text-align: right;\">\n",
       "      <th></th>\n",
       "      <th>Age</th>\n",
       "      <th>Sex</th>\n",
       "      <th>Relationship Status</th>\n",
       "      <th>Occupation</th>\n",
       "      <th>Affiliations</th>\n",
       "      <th>Social Media User?</th>\n",
       "      <th>Platforms Used</th>\n",
       "      <th>Time Spent</th>\n",
       "      <th>ADHD Score</th>\n",
       "      <th>Anxiety Score</th>\n",
       "      <th>Self Esteem Score</th>\n",
       "      <th>Depression Score</th>\n",
       "      <th>Total Score</th>\n",
       "    </tr>\n",
       "  </thead>\n",
       "  <tbody>\n",
       "    <tr>\n",
       "      <th>0</th>\n",
       "      <td>21</td>\n",
       "      <td>Male</td>\n",
       "      <td>In a relationship</td>\n",
       "      <td>University Student</td>\n",
       "      <td>University</td>\n",
       "      <td>Yes</td>\n",
       "      <td>Facebook, Twitter, Instagram, YouTube, Discord...</td>\n",
       "      <td>Between 2 and 3 hours</td>\n",
       "      <td>18</td>\n",
       "      <td>4</td>\n",
       "      <td>4</td>\n",
       "      <td>14</td>\n",
       "      <td>40</td>\n",
       "    </tr>\n",
       "    <tr>\n",
       "      <th>1</th>\n",
       "      <td>21</td>\n",
       "      <td>Female</td>\n",
       "      <td>Single</td>\n",
       "      <td>University Student</td>\n",
       "      <td>University</td>\n",
       "      <td>Yes</td>\n",
       "      <td>Facebook, Twitter, Instagram, YouTube, Discord...</td>\n",
       "      <td>More than 5 hours</td>\n",
       "      <td>15</td>\n",
       "      <td>7</td>\n",
       "      <td>10</td>\n",
       "      <td>14</td>\n",
       "      <td>46</td>\n",
       "    </tr>\n",
       "    <tr>\n",
       "      <th>2</th>\n",
       "      <td>21</td>\n",
       "      <td>Female</td>\n",
       "      <td>Single</td>\n",
       "      <td>University Student</td>\n",
       "      <td>University</td>\n",
       "      <td>Yes</td>\n",
       "      <td>Facebook, Instagram, YouTube, Pinterest</td>\n",
       "      <td>Between 3 and 4 hours</td>\n",
       "      <td>11</td>\n",
       "      <td>6</td>\n",
       "      <td>4</td>\n",
       "      <td>11</td>\n",
       "      <td>32</td>\n",
       "    </tr>\n",
       "    <tr>\n",
       "      <th>3</th>\n",
       "      <td>21</td>\n",
       "      <td>Female</td>\n",
       "      <td>Single</td>\n",
       "      <td>University Student</td>\n",
       "      <td>University</td>\n",
       "      <td>Yes</td>\n",
       "      <td>Facebook, Instagram</td>\n",
       "      <td>More than 5 hours</td>\n",
       "      <td>12</td>\n",
       "      <td>6</td>\n",
       "      <td>11</td>\n",
       "      <td>9</td>\n",
       "      <td>38</td>\n",
       "    </tr>\n",
       "    <tr>\n",
       "      <th>4</th>\n",
       "      <td>21</td>\n",
       "      <td>Female</td>\n",
       "      <td>Single</td>\n",
       "      <td>University Student</td>\n",
       "      <td>University</td>\n",
       "      <td>Yes</td>\n",
       "      <td>Facebook, Instagram, YouTube</td>\n",
       "      <td>Between 2 and 3 hours</td>\n",
       "      <td>17</td>\n",
       "      <td>9</td>\n",
       "      <td>6</td>\n",
       "      <td>9</td>\n",
       "      <td>41</td>\n",
       "    </tr>\n",
       "  </tbody>\n",
       "</table>\n",
       "</div>"
      ],
      "text/plain": [
       "   Age     Sex Relationship Status          Occupation Affiliations  \\\n",
       "0   21    Male   In a relationship  University Student   University   \n",
       "1   21  Female              Single  University Student   University   \n",
       "2   21  Female              Single  University Student   University   \n",
       "3   21  Female              Single  University Student   University   \n",
       "4   21  Female              Single  University Student   University   \n",
       "\n",
       "  Social Media User?                                     Platforms Used  \\\n",
       "0                Yes  Facebook, Twitter, Instagram, YouTube, Discord...   \n",
       "1                Yes  Facebook, Twitter, Instagram, YouTube, Discord...   \n",
       "2                Yes            Facebook, Instagram, YouTube, Pinterest   \n",
       "3                Yes                                Facebook, Instagram   \n",
       "4                Yes                       Facebook, Instagram, YouTube   \n",
       "\n",
       "              Time Spent  ADHD Score  Anxiety Score  Self Esteem Score  \\\n",
       "0  Between 2 and 3 hours          18              4                  4   \n",
       "1      More than 5 hours          15              7                 10   \n",
       "2  Between 3 and 4 hours          11              6                  4   \n",
       "3      More than 5 hours          12              6                 11   \n",
       "4  Between 2 and 3 hours          17              9                  6   \n",
       "\n",
       "   Depression Score  Total Score  \n",
       "0                14           40  \n",
       "1                14           46  \n",
       "2                11           32  \n",
       "3                 9           38  \n",
       "4                 9           41  "
      ]
     },
     "execution_count": 74,
     "metadata": {},
     "output_type": "execute_result"
    }
   ],
   "source": [
    "data.head(5)"
   ]
  },
  {
   "cell_type": "markdown",
   "metadata": {},
   "source": [
    "### Adding an \"Outcome\" column"
   ]
  },
  {
   "cell_type": "markdown",
   "metadata": {},
   "source": [
    "An \"Outcome\" variable is added based on the \"Total Score\" from a mental health questionnaire, with 40 set as the threshold. A score below 40 indicates no severe symptoms (Outcome = 0), while a score of 40 or above indicates severe symptoms, recommending a mental health checkup (Outcome = 1). The \"Total Score\" variable will be excluded in logistic regression training and prediction."
   ]
  },
  {
   "cell_type": "code",
   "execution_count": 75,
   "metadata": {},
   "outputs": [],
   "source": [
    "def map_score(score):\n",
    "  if score < 40:\n",
    "    return \"0\"\n",
    "  elif score >= 40:\n",
    "    return \"1\"\n",
    "\n",
    "data['Outcome']= data['Total Score'].apply(lambda score: map_score(score))\n",
    "data['Outcome'] = data['Outcome'].astype('int64')"
   ]
  },
  {
   "cell_type": "code",
   "execution_count": 76,
   "metadata": {},
   "outputs": [
    {
     "data": {
      "text/plain": [
       "(480, 14)"
      ]
     },
     "execution_count": 76,
     "metadata": {},
     "output_type": "execute_result"
    }
   ],
   "source": [
    "data.shape"
   ]
  },
  {
   "cell_type": "code",
   "execution_count": 77,
   "metadata": {},
   "outputs": [
    {
     "data": {
      "text/html": [
       "<div>\n",
       "<style scoped>\n",
       "    .dataframe tbody tr th:only-of-type {\n",
       "        vertical-align: middle;\n",
       "    }\n",
       "\n",
       "    .dataframe tbody tr th {\n",
       "        vertical-align: top;\n",
       "    }\n",
       "\n",
       "    .dataframe thead th {\n",
       "        text-align: right;\n",
       "    }\n",
       "</style>\n",
       "<table border=\"1\" class=\"dataframe\">\n",
       "  <thead>\n",
       "    <tr style=\"text-align: right;\">\n",
       "      <th></th>\n",
       "      <th>Age</th>\n",
       "      <th>ADHD Score</th>\n",
       "      <th>Anxiety Score</th>\n",
       "      <th>Self Esteem Score</th>\n",
       "      <th>Depression Score</th>\n",
       "      <th>Total Score</th>\n",
       "      <th>Outcome</th>\n",
       "    </tr>\n",
       "  </thead>\n",
       "  <tbody>\n",
       "    <tr>\n",
       "      <th>count</th>\n",
       "      <td>480.000000</td>\n",
       "      <td>480.000000</td>\n",
       "      <td>480.000000</td>\n",
       "      <td>480.000000</td>\n",
       "      <td>480.000000</td>\n",
       "      <td>480.000000</td>\n",
       "      <td>480.000000</td>\n",
       "    </tr>\n",
       "    <tr>\n",
       "      <th>mean</th>\n",
       "      <td>26.143750</td>\n",
       "      <td>13.460417</td>\n",
       "      <td>6.147917</td>\n",
       "      <td>6.266667</td>\n",
       "      <td>9.639583</td>\n",
       "      <td>35.514583</td>\n",
       "      <td>0.370833</td>\n",
       "    </tr>\n",
       "    <tr>\n",
       "      <th>std</th>\n",
       "      <td>9.923621</td>\n",
       "      <td>3.898302</td>\n",
       "      <td>2.087090</td>\n",
       "      <td>2.759635</td>\n",
       "      <td>3.104528</td>\n",
       "      <td>9.274507</td>\n",
       "      <td>0.483532</td>\n",
       "    </tr>\n",
       "    <tr>\n",
       "      <th>min</th>\n",
       "      <td>13.000000</td>\n",
       "      <td>4.000000</td>\n",
       "      <td>2.000000</td>\n",
       "      <td>2.000000</td>\n",
       "      <td>3.000000</td>\n",
       "      <td>14.000000</td>\n",
       "      <td>0.000000</td>\n",
       "    </tr>\n",
       "    <tr>\n",
       "      <th>25%</th>\n",
       "      <td>21.000000</td>\n",
       "      <td>11.000000</td>\n",
       "      <td>5.000000</td>\n",
       "      <td>4.000000</td>\n",
       "      <td>7.750000</td>\n",
       "      <td>29.000000</td>\n",
       "      <td>0.000000</td>\n",
       "    </tr>\n",
       "    <tr>\n",
       "      <th>50%</th>\n",
       "      <td>22.000000</td>\n",
       "      <td>14.000000</td>\n",
       "      <td>6.000000</td>\n",
       "      <td>6.000000</td>\n",
       "      <td>10.000000</td>\n",
       "      <td>36.000000</td>\n",
       "      <td>0.000000</td>\n",
       "    </tr>\n",
       "    <tr>\n",
       "      <th>75%</th>\n",
       "      <td>26.000000</td>\n",
       "      <td>16.000000</td>\n",
       "      <td>8.000000</td>\n",
       "      <td>8.000000</td>\n",
       "      <td>12.000000</td>\n",
       "      <td>42.000000</td>\n",
       "      <td>1.000000</td>\n",
       "    </tr>\n",
       "    <tr>\n",
       "      <th>max</th>\n",
       "      <td>91.000000</td>\n",
       "      <td>20.000000</td>\n",
       "      <td>10.000000</td>\n",
       "      <td>14.000000</td>\n",
       "      <td>15.000000</td>\n",
       "      <td>58.000000</td>\n",
       "      <td>1.000000</td>\n",
       "    </tr>\n",
       "  </tbody>\n",
       "</table>\n",
       "</div>"
      ],
      "text/plain": [
       "              Age  ADHD Score  Anxiety Score  Self Esteem Score  \\\n",
       "count  480.000000  480.000000     480.000000         480.000000   \n",
       "mean    26.143750   13.460417       6.147917           6.266667   \n",
       "std      9.923621    3.898302       2.087090           2.759635   \n",
       "min     13.000000    4.000000       2.000000           2.000000   \n",
       "25%     21.000000   11.000000       5.000000           4.000000   \n",
       "50%     22.000000   14.000000       6.000000           6.000000   \n",
       "75%     26.000000   16.000000       8.000000           8.000000   \n",
       "max     91.000000   20.000000      10.000000          14.000000   \n",
       "\n",
       "       Depression Score  Total Score     Outcome  \n",
       "count        480.000000   480.000000  480.000000  \n",
       "mean           9.639583    35.514583    0.370833  \n",
       "std            3.104528     9.274507    0.483532  \n",
       "min            3.000000    14.000000    0.000000  \n",
       "25%            7.750000    29.000000    0.000000  \n",
       "50%           10.000000    36.000000    0.000000  \n",
       "75%           12.000000    42.000000    1.000000  \n",
       "max           15.000000    58.000000    1.000000  "
      ]
     },
     "execution_count": 77,
     "metadata": {},
     "output_type": "execute_result"
    }
   ],
   "source": [
    "# Checking the data after cleaning and transformation is applied and adding an outcome column\n",
    "data.describe()"
   ]
  },
  {
   "cell_type": "markdown",
   "metadata": {},
   "source": [
    "# Data Visualisation"
   ]
  },
  {
   "cell_type": "code",
   "execution_count": 78,
   "metadata": {
    "scrolled": false
   },
   "outputs": [
    {
     "data": {
      "text/plain": [
       "<Axes: xlabel='Time Spent on Social Media', ylabel='Frequency'>"
      ]
     },
     "execution_count": 78,
     "metadata": {},
     "output_type": "execute_result"
    },
    {
     "data": {
      "image/png": "[encoded data removed]",
      "text/plain": [
       "<Figure size 640x480 with 1 Axes>"
      ]
     },
     "metadata": {},
     "output_type": "display_data"
    }
   ],
   "source": [
    "# For Starters, let's understand the distribution of data for 471 participants and their time spent on Social media\n",
    "\n",
    "data.groupby('Time Spent').size().plot.bar(xlabel='Time Spent on Social Media', ylabel='Frequency')"
   ]
  },
  {
   "cell_type": "markdown",
   "metadata": {},
   "source": [
    "From the above plot, we can infer that in the sample, there are less than 40 people who have an average social media use of less than an hour. The other groups each have 60 to 120 people with average social media use of 1 to 5 hours or more."
   ]
  },
  {
   "cell_type": "code",
   "execution_count": 79,
   "metadata": {},
   "outputs": [
    {
     "data": {
      "text/plain": [
       "Sex\n",
       "Female    263\n",
       "Male      211\n",
       "Others      6\n",
       "Name: count, dtype: int64"
      ]
     },
     "execution_count": 79,
     "metadata": {},
     "output_type": "execute_result"
    }
   ],
   "source": [
    "data['Sex'].value_counts()"
   ]
  },
  {
   "cell_type": "code",
   "execution_count": 80,
   "metadata": {},
   "outputs": [
    {
     "data": {
      "image/png": "[encoded data removed]",
      "text/plain": [
       "<Figure size 640x480 with 1 Axes>"
      ]
     },
     "metadata": {},
     "output_type": "display_data"
    }
   ],
   "source": [
    "# Let's understand the distribution of data for 473 participants based on their Gender.\n",
    "\n",
    "total=float(len(data))\n",
    "ax = sns.countplot(x=\"Sex\", data=data) \n",
    "for p in ax.patches:\n",
    "    height = p.get_height()\n",
    "    ax.text(p.get_x()+p.get_width()/2,height + 3,'{0:.0%}'.format(height/total),ha=\"center\")"
   ]
  },
  {
   "cell_type": "markdown",
   "metadata": {},
   "source": [
    "Approximately 260 participants out of 473 are female, making up the majority in the sample. 'Others' make up approximately 1% of the sample size, which makes it impossible to make statistical inferences based on the \"Other\" category specifically."
   ]
  },
  {
   "cell_type": "code",
   "execution_count": 81,
   "metadata": {},
   "outputs": [
    {
     "data": {
      "image/png": "[encoded data removed]",
      "text/plain": [
       "<Figure size 640x480 with 1 Axes>"
      ]
     },
     "metadata": {},
     "output_type": "display_data"
    }
   ],
   "source": [
    "# Let's understand the distribution of data for 473 participants based on \"Outcome\" - \n",
    "# whether or not the individual is experiencing severe mental health issues and therefore \n",
    "# whether we recommend the individual to go to get a mental health check up.\n",
    "\n",
    "total=float(len(data))\n",
    "ax = sns.countplot(x=\"Outcome\", data=data) \n",
    "for p in ax.patches:\n",
    "    height = p.get_height()\n",
    "    ax.text(p.get_x()+p.get_width()/2,height + 3,'{0:.0%}'.format(height/total),ha=\"center\")"
   ]
  },
  {
   "cell_type": "markdown",
   "metadata": {},
   "source": [
    "Approximately 37% of the sample of 473 participants meet criteria of scoring 40 points and above, are experiencing severe mental health symptoms and are recommended to go get their mental health evaluated by a professional."
   ]
  },
  {
   "cell_type": "code",
   "execution_count": 82,
   "metadata": {},
   "outputs": [
    {
     "data": {
      "text/plain": [
       "Occupation\n",
       "University Student    292\n",
       "Salaried Worker       131\n",
       "School Student         49\n",
       "Retired                 8\n",
       "Name: count, dtype: int64"
      ]
     },
     "execution_count": 82,
     "metadata": {},
     "output_type": "execute_result"
    }
   ],
   "source": [
    "data['Occupation'].value_counts()"
   ]
  },
  {
   "cell_type": "code",
   "execution_count": 83,
   "metadata": {},
   "outputs": [
    {
     "data": {
      "image/png": "[encoded data removed]",
      "text/plain": [
       "<Figure size 640x480 with 1 Axes>"
      ]
     },
     "metadata": {},
     "output_type": "display_data"
    }
   ],
   "source": [
    "# Let's understand the distribution of data for 471 participants based on their Occupation.\n",
    "total=float(len(data))\n",
    "ax = sns.countplot(x=\"Occupation\", data=data) \n",
    "for p in ax.patches:\n",
    "    height = p.get_height()\n",
    "    ax.text(p.get_x()+p.get_width()/2,height + 3,'{0:.0%}'.format(height/total),ha=\"center\")"
   ]
  },
  {
   "cell_type": "markdown",
   "metadata": {},
   "source": [
    "The sample is over-representated by University students, making up an overwhelming 62% of the sample. "
   ]
  },
  {
   "cell_type": "code",
   "execution_count": 84,
   "metadata": {},
   "outputs": [
    {
     "data": {
      "text/plain": [
       "<Axes: xlabel='Time Spent', ylabel='Mean ADHD Score'>"
      ]
     },
     "execution_count": 84,
     "metadata": {},
     "output_type": "execute_result"
    },
    {
     "data": {
      "image/png": "[encoded data removed]",
      "text/plain": [
       "<Figure size 640x480 with 1 Axes>"
      ]
     },
     "metadata": {},
     "output_type": "display_data"
    }
   ],
   "source": [
    "#Let's see the mean ADHD score of each Time group of participants\n",
    "\n",
    "data.groupby('Time Spent')['ADHD Score'].mean().sort_values(ascending=True).plot.bar(ylabel='Mean ADHD Score')"
   ]
  },
  {
   "cell_type": "code",
   "execution_count": 85,
   "metadata": {},
   "outputs": [
    {
     "data": {
      "text/plain": [
       "<Axes: xlabel='Time Spent', ylabel='Mean Anxiety Score'>"
      ]
     },
     "execution_count": 85,
     "metadata": {},
     "output_type": "execute_result"
    },
    {
     "data": {
      "image/png": "[encoded data removed]",
      "text/plain": [
       "<Figure size 640x480 with 1 Axes>"
      ]
     },
     "metadata": {},
     "output_type": "display_data"
    }
   ],
   "source": [
    "#Let's see the mean Anxiety score of each Time group of participants\n",
    "\n",
    "data.groupby('Time Spent')['Anxiety Score'].mean().sort_values(ascending=True).plot.bar(ylabel='Mean Anxiety Score')"
   ]
  },
  {
   "cell_type": "code",
   "execution_count": 86,
   "metadata": {},
   "outputs": [
    {
     "data": {
      "text/plain": [
       "<Axes: xlabel='Time Spent', ylabel='Mean Self Esteem Score'>"
      ]
     },
     "execution_count": 86,
     "metadata": {},
     "output_type": "execute_result"
    },
    {
     "data": {
      "image/png": "[encoded data removed]",
      "text/plain": [
       "<Figure size 640x480 with 1 Axes>"
      ]
     },
     "metadata": {},
     "output_type": "display_data"
    }
   ],
   "source": [
    "#Let's see the mean Self Esteem score of each Time group of participants\n",
    "\n",
    "data.groupby('Time Spent')['Self Esteem Score'].mean().sort_values(ascending=True).plot.bar(ylabel='Mean Self Esteem Score')"
   ]
  },
  {
   "cell_type": "code",
   "execution_count": 87,
   "metadata": {},
   "outputs": [
    {
     "data": {
      "text/plain": [
       "<Axes: xlabel='Time Spent', ylabel='Mean Depression Score'>"
      ]
     },
     "execution_count": 87,
     "metadata": {},
     "output_type": "execute_result"
    },
    {
     "data": {
      "image/png": "[encoded data removed]",
      "text/plain": [
       "<Figure size 640x480 with 1 Axes>"
      ]
     },
     "metadata": {},
     "output_type": "display_data"
    }
   ],
   "source": [
    "#Let's see the mean Depression score of each Time group of participants\n",
    "\n",
    "data.groupby('Time Spent')['Depression Score'].mean().sort_values(ascending=True).plot.bar(ylabel='Mean Depression Score')"
   ]
  },
  {
   "cell_type": "code",
   "execution_count": 88,
   "metadata": {},
   "outputs": [
    {
     "data": {
      "text/plain": [
       "<Axes: xlabel='Time Spent', ylabel='Total Score'>"
      ]
     },
     "execution_count": 88,
     "metadata": {},
     "output_type": "execute_result"
    },
    {
     "data": {
      "image/png": "[encoded data removed]",
      "text/plain": [
       "<Figure size 640x480 with 1 Axes>"
      ]
     },
     "metadata": {},
     "output_type": "display_data"
    }
   ],
   "source": [
    "#Let's see the mean Total score of each Time group of participants\n",
    "\n",
    "data.groupby('Time Spent')['Total Score'].mean().sort_values(ascending=True).plot.bar(ylabel='Total Score')"
   ]
  },
  {
   "cell_type": "markdown",
   "metadata": {},
   "source": [
    "### Converting Time Spent category to Numerical Values"
   ]
  },
  {
   "cell_type": "markdown",
   "metadata": {},
   "source": [
    "Before attempting to look at the corresponding heatmap/correlation matrix of our dataset, let us convert the 'Time Spent\" column from string to integer. This is necessary because heatmaps correlations can be drawn only from numerical values. Without this step, we will not obtain any correlations between the time spent and other independent variables in our study.\n",
    "\n",
    "This is done by assigning the various 'Time Spent' groups to number based strings, and then converting the whole column from object type to int64.\n",
    "\n",
    "'Less than an Hour'     = 0\n",
    "\n",
    "'Between 1 and 2 hours' = 1\n",
    "\n",
    "'Between 2 and 3 hours' = 2\n",
    "\n",
    "'Between 3 and 4 hours' = 3\n",
    "\n",
    "'Between 4 and 5 hours' = 4\n",
    "\n",
    "'More than 5 hours'     = 5\n"
   ]
  },
  {
   "cell_type": "code",
   "execution_count": 89,
   "metadata": {},
   "outputs": [],
   "source": [
    "data.loc[data['Time Spent'] == 'Less than an Hour', 'Time Spent'] = 0\n",
    "data.loc[data['Time Spent'] == 'Between 1 and 2 hours', 'Time Spent'] = 1\n",
    "data.loc[data['Time Spent'] == 'Between 2 and 3 hours', 'Time Spent'] = 2\n",
    "data.loc[data['Time Spent'] == 'Between 3 and 4 hours', 'Time Spent'] = 3\n",
    "data.loc[data['Time Spent'] == 'Between 4 and 5 hours', 'Time Spent'] = 4\n",
    "data.loc[data['Time Spent'] == 'More than 5 hours', 'Time Spent'] = 5"
   ]
  },
  {
   "cell_type": "code",
   "execution_count": 90,
   "metadata": {},
   "outputs": [],
   "source": [
    "#Converting Time Spent from object type to int64.\n",
    "data['Time Spent'] = data['Time Spent'].astype('int64')"
   ]
  },
  {
   "cell_type": "markdown",
   "metadata": {},
   "source": [
    "We will also give the Gender variable numerical values so that they can be used in the correlation plots, heatmaps and machine learning."
   ]
  },
  {
   "cell_type": "code",
   "execution_count": null,
   "metadata": {},
   "outputs": [],
   "source": [
    "#setting Male to 0, Female to 1, and Others to 2.\n",
    "data.loc[data['Sex'] == 'Male', 'Sex'] = 0\n",
    "data.loc[data['Sex'] == 'Female', 'Sex'] = 1\n",
    "data.loc[data['Sex'] == 'Others', 'Sex'] = 2\n",
    "data['Sex'] = data['Sex'].astype('int64')+"
   ]
  },
  {
   "cell_type": "code",
   "execution_count": 92,
   "metadata": {},
   "outputs": [
    {
     "data": {
      "text/html": [
       "<div>\n",
       "<style scoped>\n",
       "    .dataframe tbody tr th:only-of-type {\n",
       "        vertical-align: middle;\n",
       "    }\n",
       "\n",
       "    .dataframe tbody tr th {\n",
       "        vertical-align: top;\n",
       "    }\n",
       "\n",
       "    .dataframe thead th {\n",
       "        text-align: right;\n",
       "    }\n",
       "</style>\n",
       "<table border=\"1\" class=\"dataframe\">\n",
       "  <thead>\n",
       "    <tr style=\"text-align: right;\">\n",
       "      <th></th>\n",
       "      <th>Age</th>\n",
       "      <th>Sex</th>\n",
       "      <th>Relationship Status</th>\n",
       "      <th>Occupation</th>\n",
       "      <th>Affiliations</th>\n",
       "      <th>Social Media User?</th>\n",
       "      <th>Platforms Used</th>\n",
       "      <th>Time Spent</th>\n",
       "      <th>ADHD Score</th>\n",
       "      <th>Anxiety Score</th>\n",
       "      <th>Self Esteem Score</th>\n",
       "      <th>Depression Score</th>\n",
       "      <th>Total Score</th>\n",
       "      <th>Outcome</th>\n",
       "    </tr>\n",
       "  </thead>\n",
       "  <tbody>\n",
       "    <tr>\n",
       "      <th>0</th>\n",
       "      <td>21</td>\n",
       "      <td>0</td>\n",
       "      <td>In a relationship</td>\n",
       "      <td>University Student</td>\n",
       "      <td>University</td>\n",
       "      <td>Yes</td>\n",
       "      <td>Facebook, Twitter, Instagram, YouTube, Discord...</td>\n",
       "      <td>2</td>\n",
       "      <td>18</td>\n",
       "      <td>4</td>\n",
       "      <td>4</td>\n",
       "      <td>14</td>\n",
       "      <td>40</td>\n",
       "      <td>1</td>\n",
       "    </tr>\n",
       "    <tr>\n",
       "      <th>1</th>\n",
       "      <td>21</td>\n",
       "      <td>1</td>\n",
       "      <td>Single</td>\n",
       "      <td>University Student</td>\n",
       "      <td>University</td>\n",
       "      <td>Yes</td>\n",
       "      <td>Facebook, Twitter, Instagram, YouTube, Discord...</td>\n",
       "      <td>5</td>\n",
       "      <td>15</td>\n",
       "      <td>7</td>\n",
       "      <td>10</td>\n",
       "      <td>14</td>\n",
       "      <td>46</td>\n",
       "      <td>1</td>\n",
       "    </tr>\n",
       "    <tr>\n",
       "      <th>2</th>\n",
       "      <td>21</td>\n",
       "      <td>1</td>\n",
       "      <td>Single</td>\n",
       "      <td>University Student</td>\n",
       "      <td>University</td>\n",
       "      <td>Yes</td>\n",
       "      <td>Facebook, Instagram, YouTube, Pinterest</td>\n",
       "      <td>3</td>\n",
       "      <td>11</td>\n",
       "      <td>6</td>\n",
       "      <td>4</td>\n",
       "      <td>11</td>\n",
       "      <td>32</td>\n",
       "      <td>0</td>\n",
       "    </tr>\n",
       "    <tr>\n",
       "      <th>3</th>\n",
       "      <td>21</td>\n",
       "      <td>1</td>\n",
       "      <td>Single</td>\n",
       "      <td>University Student</td>\n",
       "      <td>University</td>\n",
       "      <td>Yes</td>\n",
       "      <td>Facebook, Instagram</td>\n",
       "      <td>5</td>\n",
       "      <td>12</td>\n",
       "      <td>6</td>\n",
       "      <td>11</td>\n",
       "      <td>9</td>\n",
       "      <td>38</td>\n",
       "      <td>0</td>\n",
       "    </tr>\n",
       "    <tr>\n",
       "      <th>4</th>\n",
       "      <td>21</td>\n",
       "      <td>1</td>\n",
       "      <td>Single</td>\n",
       "      <td>University Student</td>\n",
       "      <td>University</td>\n",
       "      <td>Yes</td>\n",
       "      <td>Facebook, Instagram, YouTube</td>\n",
       "      <td>2</td>\n",
       "      <td>17</td>\n",
       "      <td>9</td>\n",
       "      <td>6</td>\n",
       "      <td>9</td>\n",
       "      <td>41</td>\n",
       "      <td>1</td>\n",
       "    </tr>\n",
       "  </tbody>\n",
       "</table>\n",
       "</div>"
      ],
      "text/plain": [
       "   Age  Sex Relationship Status          Occupation Affiliations  \\\n",
       "0   21    0   In a relationship  University Student   University   \n",
       "1   21    1              Single  University Student   University   \n",
       "2   21    1              Single  University Student   University   \n",
       "3   21    1              Single  University Student   University   \n",
       "4   21    1              Single  University Student   University   \n",
       "\n",
       "  Social Media User?                                     Platforms Used  \\\n",
       "0                Yes  Facebook, Twitter, Instagram, YouTube, Discord...   \n",
       "1                Yes  Facebook, Twitter, Instagram, YouTube, Discord...   \n",
       "2                Yes            Facebook, Instagram, YouTube, Pinterest   \n",
       "3                Yes                                Facebook, Instagram   \n",
       "4                Yes                       Facebook, Instagram, YouTube   \n",
       "\n",
       "   Time Spent  ADHD Score  Anxiety Score  Self Esteem Score  Depression Score  \\\n",
       "0           2          18              4                  4                14   \n",
       "1           5          15              7                 10                14   \n",
       "2           3          11              6                  4                11   \n",
       "3           5          12              6                 11                 9   \n",
       "4           2          17              9                  6                 9   \n",
       "\n",
       "   Total Score  Outcome  \n",
       "0           40        1  \n",
       "1           46        1  \n",
       "2           32        0  \n",
       "3           38        0  \n",
       "4           41        1  "
      ]
     },
     "execution_count": 92,
     "metadata": {},
     "output_type": "execute_result"
    }
   ],
   "source": [
    "data.head(5)"
   ]
  },
  {
   "cell_type": "markdown",
   "metadata": {},
   "source": [
    "Successfully assigned specific values to specific replies in the \"Time Spent\" and \"Sex\" column and converted said columns to integer types."
   ]
  },
  {
   "cell_type": "markdown",
   "metadata": {},
   "source": [
    "# Predictive Modelling"
   ]
  },
  {
   "cell_type": "markdown",
   "metadata": {},
   "source": [
    "### Dropping unneeded columns"
   ]
  },
  {
   "cell_type": "markdown",
   "metadata": {},
   "source": [
    "First off, let us drop unneeded categorical columns before we feed our dataset to the training model."
   ]
  },
  {
   "cell_type": "code",
   "execution_count": 93,
   "metadata": {},
   "outputs": [],
   "source": [
    "#Deleting columns and updating dataset for training and predicting.\n",
    "data.drop(data.iloc[:, 2:7], inplace = True, axis = 1)"
   ]
  },
  {
   "cell_type": "code",
   "execution_count": 94,
   "metadata": {
    "scrolled": true
   },
   "outputs": [
    {
     "data": {
      "text/html": [
       "<div>\n",
       "<style scoped>\n",
       "    .dataframe tbody tr th:only-of-type {\n",
       "        vertical-align: middle;\n",
       "    }\n",
       "\n",
       "    .dataframe tbody tr th {\n",
       "        vertical-align: top;\n",
       "    }\n",
       "\n",
       "    .dataframe thead th {\n",
       "        text-align: right;\n",
       "    }\n",
       "</style>\n",
       "<table border=\"1\" class=\"dataframe\">\n",
       "  <thead>\n",
       "    <tr style=\"text-align: right;\">\n",
       "      <th></th>\n",
       "      <th>Age</th>\n",
       "      <th>Sex</th>\n",
       "      <th>Time Spent</th>\n",
       "      <th>ADHD Score</th>\n",
       "      <th>Anxiety Score</th>\n",
       "      <th>Self Esteem Score</th>\n",
       "      <th>Depression Score</th>\n",
       "      <th>Total Score</th>\n",
       "      <th>Outcome</th>\n",
       "    </tr>\n",
       "  </thead>\n",
       "  <tbody>\n",
       "    <tr>\n",
       "      <th>0</th>\n",
       "      <td>21</td>\n",
       "      <td>0</td>\n",
       "      <td>2</td>\n",
       "      <td>18</td>\n",
       "      <td>4</td>\n",
       "      <td>4</td>\n",
       "      <td>14</td>\n",
       "      <td>40</td>\n",
       "      <td>1</td>\n",
       "    </tr>\n",
       "    <tr>\n",
       "      <th>1</th>\n",
       "      <td>21</td>\n",
       "      <td>1</td>\n",
       "      <td>5</td>\n",
       "      <td>15</td>\n",
       "      <td>7</td>\n",
       "      <td>10</td>\n",
       "      <td>14</td>\n",
       "      <td>46</td>\n",
       "      <td>1</td>\n",
       "    </tr>\n",
       "    <tr>\n",
       "      <th>2</th>\n",
       "      <td>21</td>\n",
       "      <td>1</td>\n",
       "      <td>3</td>\n",
       "      <td>11</td>\n",
       "      <td>6</td>\n",
       "      <td>4</td>\n",
       "      <td>11</td>\n",
       "      <td>32</td>\n",
       "      <td>0</td>\n",
       "    </tr>\n",
       "    <tr>\n",
       "      <th>3</th>\n",
       "      <td>21</td>\n",
       "      <td>1</td>\n",
       "      <td>5</td>\n",
       "      <td>12</td>\n",
       "      <td>6</td>\n",
       "      <td>11</td>\n",
       "      <td>9</td>\n",
       "      <td>38</td>\n",
       "      <td>0</td>\n",
       "    </tr>\n",
       "    <tr>\n",
       "      <th>4</th>\n",
       "      <td>21</td>\n",
       "      <td>1</td>\n",
       "      <td>2</td>\n",
       "      <td>17</td>\n",
       "      <td>9</td>\n",
       "      <td>6</td>\n",
       "      <td>9</td>\n",
       "      <td>41</td>\n",
       "      <td>1</td>\n",
       "    </tr>\n",
       "  </tbody>\n",
       "</table>\n",
       "</div>"
      ],
      "text/plain": [
       "   Age  Sex  Time Spent  ADHD Score  Anxiety Score  Self Esteem Score  \\\n",
       "0   21    0           2          18              4                  4   \n",
       "1   21    1           5          15              7                 10   \n",
       "2   21    1           3          11              6                  4   \n",
       "3   21    1           5          12              6                 11   \n",
       "4   21    1           2          17              9                  6   \n",
       "\n",
       "   Depression Score  Total Score  Outcome  \n",
       "0                14           40        1  \n",
       "1                14           46        1  \n",
       "2                11           32        0  \n",
       "3                 9           38        0  \n",
       "4                 9           41        1  "
      ]
     },
     "execution_count": 94,
     "metadata": {},
     "output_type": "execute_result"
    }
   ],
   "source": [
    "#printing the new dataset that will be used for machine learning sequence\n",
    "data.head()"
   ]
  },
  {
   "cell_type": "code",
   "execution_count": 95,
   "metadata": {},
   "outputs": [],
   "source": [
    "#importing necessary libraries for machine learning models\n",
    "\n",
    "from sklearn.model_selection import train_test_split\n",
    "from sklearn.naive_bayes import GaussianNB\n",
    "from sklearn.linear_model import LogisticRegression\n",
    "from sklearn.preprocessing import StandardScaler\n",
    "standardizer = StandardScaler()"
   ]
  },
  {
   "cell_type": "code",
   "execution_count": 96,
   "metadata": {},
   "outputs": [],
   "source": [
    "#Splitting up the data into \"Train\" and \"Test\". 80% train, 20% test.\n",
    "X = data.drop(['Outcome'], axis = 1)\n",
    "y = data['Outcome']\n",
    "#X = standardizer.fit_transform(X)\n",
    "X_train, X_test, y_train, y_test = train_test_split(X, y , test_size=0.30,random_state=6)"
   ]
  },
  {
   "cell_type": "code",
   "execution_count": 97,
   "metadata": {},
   "outputs": [],
   "source": [
    "#Create Logistic regression model and GaussianNB model\n",
    "model = LogisticRegression()\n",
    "modelNB = GaussianNB()"
   ]
  },
  {
   "cell_type": "markdown",
   "metadata": {},
   "source": [
    "### Logistic Regression"
   ]
  },
  {
   "cell_type": "code",
   "execution_count": 98,
   "metadata": {},
   "outputs": [
    {
     "data": {
      "text/html": [
       "<style>#sk-container-id-1 {color: black;background-color: white;}#sk-container-id-1 pre{padding: 0;}#sk-container-id-1 div.sk-toggleable {background-color: white;}#sk-container-id-1 label.sk-toggleable__label {cursor: pointer;display: block;width: 100%;margin-bottom: 0;padding: 0.3em;box-sizing: border-box;text-align: center;}#sk-container-id-1 label.sk-toggleable__label-arrow:before {content: \"▸\";float: left;margin-right: 0.25em;color: #696969;}#sk-container-id-1 label.sk-toggleable__label-arrow:hover:before {color: black;}#sk-container-id-1 div.sk-estimator:hover label.sk-toggleable__label-arrow:before {color: black;}#sk-container-id-1 div.sk-toggleable__content {max-height: 0;max-width: 0;overflow: hidden;text-align: left;background-color: #f0f8ff;}#sk-container-id-1 div.sk-toggleable__content pre {margin: 0.2em;color: black;border-radius: 0.25em;background-color: #f0f8ff;}#sk-container-id-1 input.sk-toggleable__control:checked~div.sk-toggleable__content {max-height: 200px;max-width: 100%;overflow: auto;}#sk-container-id-1 input.sk-toggleable__control:checked~label.sk-toggleable__label-arrow:before {content: \"▾\";}#sk-container-id-1 div.sk-estimator input.sk-toggleable__control:checked~label.sk-toggleable__label {background-color: #d4ebff;}#sk-container-id-1 div.sk-label input.sk-toggleable__control:checked~label.sk-toggleable__label {background-color: #d4ebff;}#sk-container-id-1 input.sk-hidden--visually {border: 0;clip: rect(1px 1px 1px 1px);clip: rect(1px, 1px, 1px, 1px);height: 1px;margin: -1px;overflow: hidden;padding: 0;position: absolute;width: 1px;}#sk-container-id-1 div.sk-estimator {font-family: monospace;background-color: #f0f8ff;border: 1px dotted black;border-radius: 0.25em;box-sizing: border-box;margin-bottom: 0.5em;}#sk-container-id-1 div.sk-estimator:hover {background-color: #d4ebff;}#sk-container-id-1 div.sk-parallel-item::after {content: \"\";width: 100%;border-bottom: 1px solid gray;flex-grow: 1;}#sk-container-id-1 div.sk-label:hover label.sk-toggleable__label {background-color: #d4ebff;}#sk-container-id-1 div.sk-serial::before {content: \"\";position: absolute;border-left: 1px solid gray;box-sizing: border-box;top: 0;bottom: 0;left: 50%;z-index: 0;}#sk-container-id-1 div.sk-serial {display: flex;flex-direction: column;align-items: center;background-color: white;padding-right: 0.2em;padding-left: 0.2em;position: relative;}#sk-container-id-1 div.sk-item {position: relative;z-index: 1;}#sk-container-id-1 div.sk-parallel {display: flex;align-items: stretch;justify-content: center;background-color: white;position: relative;}#sk-container-id-1 div.sk-item::before, #sk-container-id-1 div.sk-parallel-item::before {content: \"\";position: absolute;border-left: 1px solid gray;box-sizing: border-box;top: 0;bottom: 0;left: 50%;z-index: -1;}#sk-container-id-1 div.sk-parallel-item {display: flex;flex-direction: column;z-index: 1;position: relative;background-color: white;}#sk-container-id-1 div.sk-parallel-item:first-child::after {align-self: flex-end;width: 50%;}#sk-container-id-1 div.sk-parallel-item:last-child::after {align-self: flex-start;width: 50%;}#sk-container-id-1 div.sk-parallel-item:only-child::after {width: 0;}#sk-container-id-1 div.sk-dashed-wrapped {border: 1px dashed gray;margin: 0 0.4em 0.5em 0.4em;box-sizing: border-box;padding-bottom: 0.4em;background-color: white;}#sk-container-id-1 div.sk-label label {font-family: monospace;font-weight: bold;display: inline-block;line-height: 1.2em;}#sk-container-id-1 div.sk-label-container {text-align: center;}#sk-container-id-1 div.sk-container {/* jupyter's `normalize.less` sets `[hidden] { display: none; }` but bootstrap.min.css set `[hidden] { display: none !important; }` so we also need the `!important` here to be able to override the default hidden behavior on the sphinx rendered scikit-learn.org. See: https://github.com/scikit-learn/scikit-learn/issues/21755 */display: inline-block !important;position: relative;}#sk-container-id-1 div.sk-text-repr-fallback {display: none;}</style><div id=\"sk-container-id-1\" class=\"sk-top-container\"><div class=\"sk-text-repr-fallback\"><pre>LogisticRegression()</pre><b>In a Jupyter environment, please rerun this cell to show the HTML representation or trust the notebook. <br />On GitHub, the HTML representation is unable to render, please try loading this page with nbviewer.org.</b></div><div class=\"sk-container\" hidden><div class=\"sk-item\"><div class=\"sk-estimator sk-toggleable\"><input class=\"sk-toggleable__control sk-hidden--visually\" id=\"sk-estimator-id-1\" type=\"checkbox\" checked><label for=\"sk-estimator-id-1\" class=\"sk-toggleable__label sk-toggleable__label-arrow\">LogisticRegression</label><div class=\"sk-toggleable__content\"><pre>LogisticRegression()</pre></div></div></div></div></div>"
      ],
      "text/plain": [
       "LogisticRegression()"
      ]
     },
     "execution_count": 98,
     "metadata": {},
     "output_type": "execute_result"
    }
   ],
   "source": [
    "# Call LinearRegression() to predict.\n",
    "model.fit(X_train, y_train)"
   ]
  },
  {
   "cell_type": "code",
   "execution_count": 99,
   "metadata": {},
   "outputs": [
    {
     "name": "stdout",
     "output_type": "stream",
     "text": [
      "[[83  0]\n",
      " [ 0 61]]\n"
     ]
    }
   ],
   "source": [
    "predicted= model.predict(X_test)\n",
    "accuracy= model.score(X_test,y_test)\n",
    "from sklearn import metrics\n",
    "cm = metrics.confusion_matrix(y_test, predicted)\n",
    "print(cm)"
   ]
  },
  {
   "cell_type": "code",
   "execution_count": 100,
   "metadata": {},
   "outputs": [
    {
     "name": "stdout",
     "output_type": "stream",
     "text": [
      "Predicted Values using Logistic Regression:  [1 0 0 0 0 0 0 0 1 0 0 0 0 0 1 1 0 0 1 1 1 1 0 1 1 0 0 0 0 1 0 0 0 1 0 1 0\n",
      " 1 0 1 0 1 0 0 0 1 0 1 1 1 1 0 1 0 1 0 0 1 0 0 0 0 0 1 1 0 0 1 1 0 0 0 0 0\n",
      " 1 0 0 0 0 0 0 1 0 0 0 1 1 1 1 1 1 0 1 0 1 0 1 0 0 0 0 1 0 1 1 1 1 0 0 0 0\n",
      " 1 1 1 0 0 0 1 0 1 0 0 1 0 0 1 1 0 1 1 0 1 1 1 0 0 1 0 1 1 0 1 0 0]\n"
     ]
    }
   ],
   "source": [
    "print(\"Predicted Values using Logistic Regression: \", predicted)"
   ]
  },
  {
   "cell_type": "code",
   "execution_count": 101,
   "metadata": {},
   "outputs": [
    {
     "name": "stdout",
     "output_type": "stream",
     "text": [
      "Accuracy of Logistic Regression:  1.0\n"
     ]
    }
   ],
   "source": [
    "print(\"Accuracy of Logistic Regression: \",metrics.accuracy_score(y_test, predicted))"
   ]
  },
  {
   "cell_type": "code",
   "execution_count": 102,
   "metadata": {},
   "outputs": [
    {
     "name": "stdout",
     "output_type": "stream",
     "text": [
      "Accuracy score using the Logistic regression model:  100.0 %\n"
     ]
    }
   ],
   "source": [
    "# Model Accuracy, how often is the classifier correct?\n",
    "print('Accuracy score using the Logistic regression model: ', accuracy*100,'%')"
   ]
  },
  {
   "cell_type": "markdown",
   "metadata": {},
   "source": [
    "### Gaussian Naive Bayes"
   ]
  },
  {
   "cell_type": "code",
   "execution_count": 103,
   "metadata": {},
   "outputs": [],
   "source": [
    "#Create GaussianNB model\n",
    "modelNB = GaussianNB()"
   ]
  },
  {
   "cell_type": "code",
   "execution_count": 104,
   "metadata": {},
   "outputs": [
    {
     "data": {
      "text/html": [
       "<style>#sk-container-id-2 {color: black;background-color: white;}#sk-container-id-2 pre{padding: 0;}#sk-container-id-2 div.sk-toggleable {background-color: white;}#sk-container-id-2 label.sk-toggleable__label {cursor: pointer;display: block;width: 100%;margin-bottom: 0;padding: 0.3em;box-sizing: border-box;text-align: center;}#sk-container-id-2 label.sk-toggleable__label-arrow:before {content: \"▸\";float: left;margin-right: 0.25em;color: #696969;}#sk-container-id-2 label.sk-toggleable__label-arrow:hover:before {color: black;}#sk-container-id-2 div.sk-estimator:hover label.sk-toggleable__label-arrow:before {color: black;}#sk-container-id-2 div.sk-toggleable__content {max-height: 0;max-width: 0;overflow: hidden;text-align: left;background-color: #f0f8ff;}#sk-container-id-2 div.sk-toggleable__content pre {margin: 0.2em;color: black;border-radius: 0.25em;background-color: #f0f8ff;}#sk-container-id-2 input.sk-toggleable__control:checked~div.sk-toggleable__content {max-height: 200px;max-width: 100%;overflow: auto;}#sk-container-id-2 input.sk-toggleable__control:checked~label.sk-toggleable__label-arrow:before {content: \"▾\";}#sk-container-id-2 div.sk-estimator input.sk-toggleable__control:checked~label.sk-toggleable__label {background-color: #d4ebff;}#sk-container-id-2 div.sk-label input.sk-toggleable__control:checked~label.sk-toggleable__label {background-color: #d4ebff;}#sk-container-id-2 input.sk-hidden--visually {border: 0;clip: rect(1px 1px 1px 1px);clip: rect(1px, 1px, 1px, 1px);height: 1px;margin: -1px;overflow: hidden;padding: 0;position: absolute;width: 1px;}#sk-container-id-2 div.sk-estimator {font-family: monospace;background-color: #f0f8ff;border: 1px dotted black;border-radius: 0.25em;box-sizing: border-box;margin-bottom: 0.5em;}#sk-container-id-2 div.sk-estimator:hover {background-color: #d4ebff;}#sk-container-id-2 div.sk-parallel-item::after {content: \"\";width: 100%;border-bottom: 1px solid gray;flex-grow: 1;}#sk-container-id-2 div.sk-label:hover label.sk-toggleable__label {background-color: #d4ebff;}#sk-container-id-2 div.sk-serial::before {content: \"\";position: absolute;border-left: 1px solid gray;box-sizing: border-box;top: 0;bottom: 0;left: 50%;z-index: 0;}#sk-container-id-2 div.sk-serial {display: flex;flex-direction: column;align-items: center;background-color: white;padding-right: 0.2em;padding-left: 0.2em;position: relative;}#sk-container-id-2 div.sk-item {position: relative;z-index: 1;}#sk-container-id-2 div.sk-parallel {display: flex;align-items: stretch;justify-content: center;background-color: white;position: relative;}#sk-container-id-2 div.sk-item::before, #sk-container-id-2 div.sk-parallel-item::before {content: \"\";position: absolute;border-left: 1px solid gray;box-sizing: border-box;top: 0;bottom: 0;left: 50%;z-index: -1;}#sk-container-id-2 div.sk-parallel-item {display: flex;flex-direction: column;z-index: 1;position: relative;background-color: white;}#sk-container-id-2 div.sk-parallel-item:first-child::after {align-self: flex-end;width: 50%;}#sk-container-id-2 div.sk-parallel-item:last-child::after {align-self: flex-start;width: 50%;}#sk-container-id-2 div.sk-parallel-item:only-child::after {width: 0;}#sk-container-id-2 div.sk-dashed-wrapped {border: 1px dashed gray;margin: 0 0.4em 0.5em 0.4em;box-sizing: border-box;padding-bottom: 0.4em;background-color: white;}#sk-container-id-2 div.sk-label label {font-family: monospace;font-weight: bold;display: inline-block;line-height: 1.2em;}#sk-container-id-2 div.sk-label-container {text-align: center;}#sk-container-id-2 div.sk-container {/* jupyter's `normalize.less` sets `[hidden] { display: none; }` but bootstrap.min.css set `[hidden] { display: none !important; }` so we also need the `!important` here to be able to override the default hidden behavior on the sphinx rendered scikit-learn.org. See: https://github.com/scikit-learn/scikit-learn/issues/21755 */display: inline-block !important;position: relative;}#sk-container-id-2 div.sk-text-repr-fallback {display: none;}</style><div id=\"sk-container-id-2\" class=\"sk-top-container\"><div class=\"sk-text-repr-fallback\"><pre>GaussianNB()</pre><b>In a Jupyter environment, please rerun this cell to show the HTML representation or trust the notebook. <br />On GitHub, the HTML representation is unable to render, please try loading this page with nbviewer.org.</b></div><div class=\"sk-container\" hidden><div class=\"sk-item\"><div class=\"sk-estimator sk-toggleable\"><input class=\"sk-toggleable__control sk-hidden--visually\" id=\"sk-estimator-id-2\" type=\"checkbox\" checked><label for=\"sk-estimator-id-2\" class=\"sk-toggleable__label sk-toggleable__label-arrow\">GaussianNB</label><div class=\"sk-toggleable__content\"><pre>GaussianNB()</pre></div></div></div></div></div>"
      ],
      "text/plain": [
       "GaussianNB()"
      ]
     },
     "execution_count": 104,
     "metadata": {},
     "output_type": "execute_result"
    }
   ],
   "source": [
    "# Call GaussianNB() to to predict.\n",
    "modelNB.fit(X_train, y_train)"
   ]
  },
  {
   "cell_type": "code",
   "execution_count": 105,
   "metadata": {},
   "outputs": [
    {
     "name": "stdout",
     "output_type": "stream",
     "text": [
      "[[76  7]\n",
      " [ 1 60]]\n"
     ]
    }
   ],
   "source": [
    "predicted= modelNB.predict(X_test)\n",
    "accuracy= modelNB.score(X_test,y_test)\n",
    "from sklearn import metrics\n",
    "cm = metrics.confusion_matrix(y_test, predicted)\n",
    "print(cm)"
   ]
  },
  {
   "cell_type": "code",
   "execution_count": 106,
   "metadata": {},
   "outputs": [
    {
     "name": "stdout",
     "output_type": "stream",
     "text": [
      "Predicted Values using Gaussian Naive Bayes Model:  [1 0 0 0 0 0 0 0 1 0 0 0 0 0 1 1 1 0 1 1 1 1 0 1 1 0 0 0 0 1 0 0 0 1 0 1 1\n",
      " 1 0 1 0 1 1 0 0 1 0 1 1 1 1 1 1 0 1 0 0 1 0 0 0 0 0 1 1 0 0 1 1 0 0 0 0 0\n",
      " 1 0 0 0 0 0 0 1 0 1 0 1 1 1 1 1 1 0 1 0 1 0 1 0 0 0 0 1 0 1 1 1 1 0 0 0 0\n",
      " 1 1 1 0 1 0 1 0 1 0 0 1 0 0 0 1 0 1 1 0 1 1 1 0 1 1 0 1 1 0 1 0 0]\n"
     ]
    }
   ],
   "source": [
    "print(\"Predicted Values using Gaussian Naive Bayes Model: \", predicted)"
   ]
  },
  {
   "cell_type": "code",
   "execution_count": 107,
   "metadata": {},
   "outputs": [
    {
     "name": "stdout",
     "output_type": "stream",
     "text": [
      "Accuracy of Gaussian Naive Bayes Model:  0.9444444444444444\n"
     ]
    }
   ],
   "source": [
    "print(\"Accuracy of Gaussian Naive Bayes Model: \",metrics.accuracy_score(y_test, predicted))"
   ]
  },
  {
   "cell_type": "code",
   "execution_count": 108,
   "metadata": {},
   "outputs": [
    {
     "name": "stdout",
     "output_type": "stream",
     "text": [
      "Accuracy score using the Gaussian Naive Bayes Model:  94.44444444444444 %\n"
     ]
    }
   ],
   "source": [
    "# Model Accuracy, how often is the classifier correct?\n",
    "print('Accuracy score using the Gaussian Naive Bayes Model: ', accuracy*100,'%')"
   ]
  }
 ],
 "metadata": {
  "colab": {
   "collapsed_sections": [],
   "name": "Correlation between Social Media use and Mental Health",
   "provenance": []
  },
  "kernelspec": {
   "display_name": "Python 3",
   "language": "python",
   "name": "python3"
  },
  "language_info": {
   "codemirror_mode": {
    "name": "ipython",
    "version": 3
   },
   "file_extension": ".py",
   "mimetype": "text/x-python",
   "name": "python",
   "nbconvert_exporter": "python",
   "pygments_lexer": "ipython3",
   "version": "3.11.7"
  }
 },
 "nbformat": 4,
 "nbformat_minor": 1
}
